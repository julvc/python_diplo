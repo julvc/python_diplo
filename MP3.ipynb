{
  "cells": [
    {
      "cell_type": "markdown",
      "metadata": {
        "id": "view-in-github",
        "colab_type": "text"
      },
      "source": [
        "<a href=\"https://colab.research.google.com/github/julvc/python_diplo/blob/master/MP3.ipynb\" target=\"_parent\"><img src=\"https://colab.research.google.com/assets/colab-badge.svg\" alt=\"Open In Colab\"/></a>"
      ]
    },
    {
      "cell_type": "markdown",
      "metadata": {
        "id": "oS9Hw29WvZ3U"
      },
      "source": [
        "# Miniproyecto 3: ¿Te gustaría ser *Data Scientist Senior*?\n",
        "#### **Curso:** Introducción a Minería de Datos y Machine Learning\n",
        "\n",
        "---\n",
        "\n",
        "**¡Tienes una oferta de trabajo!**\n",
        "\n",
        "Una empresa se enteró de tu **excelente** trabajo como *Data Scientist Junior* en **AMAZOFF**.\n",
        "\n",
        "¡Quieren que trabajes con ellos como ***Data Scientist Senior***!\n",
        "\n",
        "Para la entrevista de trabajo, te han pedido que utilices tus poderes de ***Machine Learning*** en sus bases de datos.\n",
        "\n",
        "**¿Estás listo para el reto?**"
      ]
    },
    {
      "cell_type": "markdown",
      "metadata": {
        "id": "pQbzEa79vZ3V"
      },
      "source": [
        "# ¿Qué empresa te quiere en su equipo?\n",
        "\n",
        "En este MP3 deberás buscar una base de datos y aplicar tus conocimientos de *Machine Learning*.\n",
        "\n",
        "Una vez elegida la base de datos, deberás inventar una empresa ficticia que te busca para el puesto de *Data Scientist Senior*.\n",
        "\n",
        "La empresa debe de tener sentido con los datos y lo que quieres predecir usando *Machine Learning*.\n",
        "\n",
        "## ¿Cómo elegir la base de datos?\n",
        "\n",
        "Puedes utilizar cualquier base de datos que esté publicada en internet de forma libre. Esta base de datos debe por lo menos cumplir con:\n",
        "\n",
        "- Tener al menos 1000 filas después de limpiarla.\n",
        "- Tener al menos 5 columnas con información relevante (no cuentan: *ids*, *index*, etc.) después de limpiarla.\n",
        "- No tener consideraciones éticas graves. Ejemplo: datos privados de una empresa real.\n",
        "- Debe tener al menos una columna (aparte de las 5 relevantes) para predecir (columna `label`o `target`).\n",
        "- El ejercio contempla solo una base de datos. Si tus datos vienen originalmente en más de una, deberás juntarlos (ejemplo: `join`, `merge`, etc.) en la pregunta 1. Debes cargar todos los datos necesarios en la sección de **Preámbulo**."
      ]
    },
    {
      "cell_type": "markdown",
      "metadata": {
        "id": "2STH41BevZ3V"
      },
      "source": [
        "# Define tu empresa\n",
        "\n",
        "> **¡No olvides elegir tus datos primero!**\n",
        "\n",
        "- **Nombre de la empresa**: [ NOMBRE FICTICIO DE TU EMPRESA ]\n",
        "- **Descripción de la empresa**: [ DESCRIPCIÓN DE TU EMPRESA ]"
      ]
    },
    {
      "cell_type": "markdown",
      "metadata": {
        "id": "M-HNlBmWvZ3W"
      },
      "source": [
        "# Pauta de Evaluación\n",
        "\n",
        "Este MP3 está enfocado en responder preguntas de negocio relevantes para tu nueva empresa (creada por ti).\n",
        "\n",
        "### Preguntas de Negocio\n",
        "\n",
        "1. (10 puntos) ¿Cargaste los datos? ¡Toca limpiarlos! La empresa no ha tocado esos datos. ¿Se los puedes explicar?\n",
        "2. (15 puntos) Datos limpios. Pues, es hora de un... ¡Análisis Exploratorio de Datos!\n",
        "3. (10 puntos) ¡Vamos con el ML... ¿Qué? ¿Hay que preparar los datos primero?\n",
        "4. (20 puntos) ¡Grupos everywhere!\n",
        "5. (25 puntos) ¿Podemos predecir algo con estos datos? Demostremos nuestra experiencia.\n",
        "6. (20 puntos) ¿Puedes explicar mejor tus resultados? ¡De Junior a Senior!\n",
        "\n",
        "### Tener en consideración:\n",
        "\n",
        "En caso de que el código esté bien, pero no se responda (usando celdas de texto) la pregunta de negocio (sección **Explicación**), **se asignará máximo la mitad de puntos** de esa pregunta.\n",
        "\n",
        "> # ¡NO OLVIDES GUARDAR Y SUBIR EL NOTEBOOK A LA PLATAFORMA CUANDO TERMINES! FORMATO .ipynb\n",
        "\n",
        "> # ¡NO OLVIDES SUBIR LOS DATOS ORIGINALES A LA PLATAFORMA!"
      ]
    },
    {
      "cell_type": "markdown",
      "metadata": {
        "id": "5Qqf-4SdvZ3W"
      },
      "source": [
        "# Preámbulo"
      ]
    },
    {
      "cell_type": "code",
      "execution_count": 1,
      "metadata": {
        "id": "nDW9WDozvZ3W"
      },
      "outputs": [],
      "source": [
        "# Agrega todas las librerias necesarias para el proyecto en su sección correspondiente\n",
        "\n",
        "# Clustering\n",
        "from sklearn.cluster import KMeans\n",
        "\n",
        "# Machine Learning\n",
        "from sklearn.metrics import classification_report, confusion_matrix, accuracy_score\n",
        "from sklearn.preprocessing import LabelEncoder, OneHotEncoder, OrdinalEncoder\n",
        "from sklearn.preprocessing import StandardScaler, MinMaxScaler\n",
        "from sklearn.model_selection import train_test_split\n",
        "from sklearn.ensemble import RandomForestClassifier\n",
        "from sklearn.neighbors import KNeighborsClassifier\n",
        "\n",
        "# General Data Science\n",
        "from matplotlib import pyplot as plt\n",
        "import seaborn as sns\n",
        "import pandas as pd\n",
        "import numpy as np"
      ]
    },
    {
      "cell_type": "code",
      "execution_count": 2,
      "metadata": {
        "id": "cQxjKFdsvZ3X"
      },
      "outputs": [],
      "source": [
        "# Esta configuración permite que los dataframes se muestren completos.\n",
        "pd.set_option('display.max_columns', None)"
      ]
    },
    {
      "cell_type": "code",
      "execution_count": 18,
      "metadata": {
        "id": "Zt1HIuP5vZ3X"
      },
      "outputs": [],
      "source": [
        "# PARÁMETROS (puedes modificar esta sección)\n",
        "import glob\n",
        "import os\n",
        "# Ruta a la carpeta que contiene los archivos CSV\n",
        "folder_path = \"Data/\"\n",
        "csv_files = glob.glob(os.path.join(folder_path, \"*.csv\"))\n",
        "\n",
        "combined_df = pd.concat(dataframes, ignore_index=True)\n",
        "\n",
        "for column in combined_df.columns:\n",
        "    if \"_dup\" in column:\n",
        "        original_column = column.replace(\"_dup\", \"\")\n",
        "        if original_column in combined_df.columns:\n",
        "            combined_df[original_column] = combined_df[original_column].combine_first(combined_df[column])\n",
        "            combined_df.drop(columns=[column], inplace=True)\n",
        "\n",
        "combined_df.fillna(0, inplace=True)\n",
        "\n",
        "combined_df.head(5)\n",
        "RANDOM_STATE = 15 # ¡Cámbialo a tu número favorito!"
      ]
    },
    {
      "cell_type": "code",
      "source": [
        "combined_df.info()"
      ],
      "metadata": {
        "colab": {
          "base_uri": "https://localhost:8080/"
        },
        "id": "5Iu_CB7O3rHO",
        "outputId": "46bd9f17-99c0-42e1-f719-cac847d3d424"
      },
      "execution_count": 17,
      "outputs": [
        {
          "output_type": "stream",
          "name": "stdout",
          "text": [
            "<class 'pandas.core.frame.DataFrame'>\n",
            "RangeIndex: 1984 entries, 0 to 1983\n",
            "Data columns (total 18 columns):\n",
            " #   Column                      Non-Null Count  Dtype  \n",
            "---  ------                      --------------  -----  \n",
            " 0   Rank                        1984 non-null   int64  \n",
            " 1   Player                      1984 non-null   object \n",
            " 2   Team                        1984 non-null   object \n",
            " 3   Interceptions per 90        1984 non-null   float64\n",
            " 4   Total Interceptions         1984 non-null   float64\n",
            " 5   Minutes                     1984 non-null   int64  \n",
            " 6   Matches                     1984 non-null   int64  \n",
            " 7   Country                     1984 non-null   object \n",
            " 8   FotMob Rating               1984 non-null   float64\n",
            " 9   Player of the Match Awards  1984 non-null   float64\n",
            " 10  Red Cards                   1984 non-null   float64\n",
            " 11  Yellow Cards                1984 non-null   float64\n",
            " 12  Clearances per 90           1984 non-null   float64\n",
            " 13  Total Clearances            1984 non-null   float64\n",
            " 14  Shots on Target per 90      1984 non-null   float64\n",
            " 15  Shot Accuracy (%)           1984 non-null   float64\n",
            " 16  Tackles per 90              1984 non-null   float64\n",
            " 17  Tackle Success Rate (%)     1984 non-null   float64\n",
            "dtypes: float64(12), int64(3), object(3)\n",
            "memory usage: 279.1+ KB\n"
          ]
        }
      ]
    },
    {
      "cell_type": "code",
      "execution_count": 19,
      "metadata": {
        "colab": {
          "base_uri": "https://localhost:8080/",
          "height": 293
        },
        "id": "1g5wg3R8vZ3X",
        "outputId": "a86bd0e7-1d19-440f-c921-86fac8022728"
      },
      "outputs": [
        {
          "output_type": "stream",
          "name": "stdout",
          "text": [
            "1984 rows x 18 columns\n"
          ]
        },
        {
          "output_type": "execute_result",
          "data": {
            "text/plain": [
              "   Rank              Player               Team  Interceptions per 90  \\\n",
              "0     1    Antonee Robinson             Fulham                   2.2   \n",
              "1     2          Lewis Cook        Bournemouth                   2.1   \n",
              "2     3         Teden Mengi         Luton Town                   2.1   \n",
              "3     4   Aaron Wan-Bissaka  Manchester United                   2.1   \n",
              "4     5  Christian Nørgaard          Brentford                   1.9   \n",
              "\n",
              "   Total Interceptions  Minutes  Matches Country  FotMob Rating  \\\n",
              "0                 80.0     3270       37     USA            0.0   \n",
              "1                 65.0     2792       33     ENG            0.0   \n",
              "2                 57.0     2470       30     ENG            0.0   \n",
              "3                 41.0     1781       22     ENG            0.0   \n",
              "4                 54.0     2513       31     DEN            0.0   \n",
              "\n",
              "   Player of the Match Awards  Red Cards  Yellow Cards  Clearances per 90  \\\n",
              "0                         0.0        0.0           0.0                0.0   \n",
              "1                         0.0        0.0           0.0                0.0   \n",
              "2                         0.0        0.0           0.0                0.0   \n",
              "3                         0.0        0.0           0.0                0.0   \n",
              "4                         0.0        0.0           0.0                0.0   \n",
              "\n",
              "   Total Clearances  Shots on Target per 90  Shot Accuracy (%)  \\\n",
              "0               0.0                     0.0                0.0   \n",
              "1               0.0                     0.0                0.0   \n",
              "2               0.0                     0.0                0.0   \n",
              "3               0.0                     0.0                0.0   \n",
              "4               0.0                     0.0                0.0   \n",
              "\n",
              "   Tackles per 90  Tackle Success Rate (%)  \n",
              "0             0.0                      0.0  \n",
              "1             0.0                      0.0  \n",
              "2             0.0                      0.0  \n",
              "3             0.0                      0.0  \n",
              "4             0.0                      0.0  "
            ],
            "text/html": [
              "\n",
              "  <div id=\"df-513b3e75-e4a5-4931-88fa-ced01dd4371a\" class=\"colab-df-container\">\n",
              "    <div>\n",
              "<style scoped>\n",
              "    .dataframe tbody tr th:only-of-type {\n",
              "        vertical-align: middle;\n",
              "    }\n",
              "\n",
              "    .dataframe tbody tr th {\n",
              "        vertical-align: top;\n",
              "    }\n",
              "\n",
              "    .dataframe thead th {\n",
              "        text-align: right;\n",
              "    }\n",
              "</style>\n",
              "<table border=\"1\" class=\"dataframe\">\n",
              "  <thead>\n",
              "    <tr style=\"text-align: right;\">\n",
              "      <th></th>\n",
              "      <th>Rank</th>\n",
              "      <th>Player</th>\n",
              "      <th>Team</th>\n",
              "      <th>Interceptions per 90</th>\n",
              "      <th>Total Interceptions</th>\n",
              "      <th>Minutes</th>\n",
              "      <th>Matches</th>\n",
              "      <th>Country</th>\n",
              "      <th>FotMob Rating</th>\n",
              "      <th>Player of the Match Awards</th>\n",
              "      <th>Red Cards</th>\n",
              "      <th>Yellow Cards</th>\n",
              "      <th>Clearances per 90</th>\n",
              "      <th>Total Clearances</th>\n",
              "      <th>Shots on Target per 90</th>\n",
              "      <th>Shot Accuracy (%)</th>\n",
              "      <th>Tackles per 90</th>\n",
              "      <th>Tackle Success Rate (%)</th>\n",
              "    </tr>\n",
              "  </thead>\n",
              "  <tbody>\n",
              "    <tr>\n",
              "      <th>0</th>\n",
              "      <td>1</td>\n",
              "      <td>Antonee Robinson</td>\n",
              "      <td>Fulham</td>\n",
              "      <td>2.2</td>\n",
              "      <td>80.0</td>\n",
              "      <td>3270</td>\n",
              "      <td>37</td>\n",
              "      <td>USA</td>\n",
              "      <td>0.0</td>\n",
              "      <td>0.0</td>\n",
              "      <td>0.0</td>\n",
              "      <td>0.0</td>\n",
              "      <td>0.0</td>\n",
              "      <td>0.0</td>\n",
              "      <td>0.0</td>\n",
              "      <td>0.0</td>\n",
              "      <td>0.0</td>\n",
              "      <td>0.0</td>\n",
              "    </tr>\n",
              "    <tr>\n",
              "      <th>1</th>\n",
              "      <td>2</td>\n",
              "      <td>Lewis Cook</td>\n",
              "      <td>Bournemouth</td>\n",
              "      <td>2.1</td>\n",
              "      <td>65.0</td>\n",
              "      <td>2792</td>\n",
              "      <td>33</td>\n",
              "      <td>ENG</td>\n",
              "      <td>0.0</td>\n",
              "      <td>0.0</td>\n",
              "      <td>0.0</td>\n",
              "      <td>0.0</td>\n",
              "      <td>0.0</td>\n",
              "      <td>0.0</td>\n",
              "      <td>0.0</td>\n",
              "      <td>0.0</td>\n",
              "      <td>0.0</td>\n",
              "      <td>0.0</td>\n",
              "    </tr>\n",
              "    <tr>\n",
              "      <th>2</th>\n",
              "      <td>3</td>\n",
              "      <td>Teden Mengi</td>\n",
              "      <td>Luton Town</td>\n",
              "      <td>2.1</td>\n",
              "      <td>57.0</td>\n",
              "      <td>2470</td>\n",
              "      <td>30</td>\n",
              "      <td>ENG</td>\n",
              "      <td>0.0</td>\n",
              "      <td>0.0</td>\n",
              "      <td>0.0</td>\n",
              "      <td>0.0</td>\n",
              "      <td>0.0</td>\n",
              "      <td>0.0</td>\n",
              "      <td>0.0</td>\n",
              "      <td>0.0</td>\n",
              "      <td>0.0</td>\n",
              "      <td>0.0</td>\n",
              "    </tr>\n",
              "    <tr>\n",
              "      <th>3</th>\n",
              "      <td>4</td>\n",
              "      <td>Aaron Wan-Bissaka</td>\n",
              "      <td>Manchester United</td>\n",
              "      <td>2.1</td>\n",
              "      <td>41.0</td>\n",
              "      <td>1781</td>\n",
              "      <td>22</td>\n",
              "      <td>ENG</td>\n",
              "      <td>0.0</td>\n",
              "      <td>0.0</td>\n",
              "      <td>0.0</td>\n",
              "      <td>0.0</td>\n",
              "      <td>0.0</td>\n",
              "      <td>0.0</td>\n",
              "      <td>0.0</td>\n",
              "      <td>0.0</td>\n",
              "      <td>0.0</td>\n",
              "      <td>0.0</td>\n",
              "    </tr>\n",
              "    <tr>\n",
              "      <th>4</th>\n",
              "      <td>5</td>\n",
              "      <td>Christian Nørgaard</td>\n",
              "      <td>Brentford</td>\n",
              "      <td>1.9</td>\n",
              "      <td>54.0</td>\n",
              "      <td>2513</td>\n",
              "      <td>31</td>\n",
              "      <td>DEN</td>\n",
              "      <td>0.0</td>\n",
              "      <td>0.0</td>\n",
              "      <td>0.0</td>\n",
              "      <td>0.0</td>\n",
              "      <td>0.0</td>\n",
              "      <td>0.0</td>\n",
              "      <td>0.0</td>\n",
              "      <td>0.0</td>\n",
              "      <td>0.0</td>\n",
              "      <td>0.0</td>\n",
              "    </tr>\n",
              "  </tbody>\n",
              "</table>\n",
              "</div>\n",
              "    <div class=\"colab-df-buttons\">\n",
              "\n",
              "  <div class=\"colab-df-container\">\n",
              "    <button class=\"colab-df-convert\" onclick=\"convertToInteractive('df-513b3e75-e4a5-4931-88fa-ced01dd4371a')\"\n",
              "            title=\"Convert this dataframe to an interactive table.\"\n",
              "            style=\"display:none;\">\n",
              "\n",
              "  <svg xmlns=\"http://www.w3.org/2000/svg\" height=\"24px\" viewBox=\"0 -960 960 960\">\n",
              "    <path d=\"M120-120v-720h720v720H120Zm60-500h600v-160H180v160Zm220 220h160v-160H400v160Zm0 220h160v-160H400v160ZM180-400h160v-160H180v160Zm440 0h160v-160H620v160ZM180-180h160v-160H180v160Zm440 0h160v-160H620v160Z\"/>\n",
              "  </svg>\n",
              "    </button>\n",
              "\n",
              "  <style>\n",
              "    .colab-df-container {\n",
              "      display:flex;\n",
              "      gap: 12px;\n",
              "    }\n",
              "\n",
              "    .colab-df-convert {\n",
              "      background-color: #E8F0FE;\n",
              "      border: none;\n",
              "      border-radius: 50%;\n",
              "      cursor: pointer;\n",
              "      display: none;\n",
              "      fill: #1967D2;\n",
              "      height: 32px;\n",
              "      padding: 0 0 0 0;\n",
              "      width: 32px;\n",
              "    }\n",
              "\n",
              "    .colab-df-convert:hover {\n",
              "      background-color: #E2EBFA;\n",
              "      box-shadow: 0px 1px 2px rgba(60, 64, 67, 0.3), 0px 1px 3px 1px rgba(60, 64, 67, 0.15);\n",
              "      fill: #174EA6;\n",
              "    }\n",
              "\n",
              "    .colab-df-buttons div {\n",
              "      margin-bottom: 4px;\n",
              "    }\n",
              "\n",
              "    [theme=dark] .colab-df-convert {\n",
              "      background-color: #3B4455;\n",
              "      fill: #D2E3FC;\n",
              "    }\n",
              "\n",
              "    [theme=dark] .colab-df-convert:hover {\n",
              "      background-color: #434B5C;\n",
              "      box-shadow: 0px 1px 3px 1px rgba(0, 0, 0, 0.15);\n",
              "      filter: drop-shadow(0px 1px 2px rgba(0, 0, 0, 0.3));\n",
              "      fill: #FFFFFF;\n",
              "    }\n",
              "  </style>\n",
              "\n",
              "    <script>\n",
              "      const buttonEl =\n",
              "        document.querySelector('#df-513b3e75-e4a5-4931-88fa-ced01dd4371a button.colab-df-convert');\n",
              "      buttonEl.style.display =\n",
              "        google.colab.kernel.accessAllowed ? 'block' : 'none';\n",
              "\n",
              "      async function convertToInteractive(key) {\n",
              "        const element = document.querySelector('#df-513b3e75-e4a5-4931-88fa-ced01dd4371a');\n",
              "        const dataTable =\n",
              "          await google.colab.kernel.invokeFunction('convertToInteractive',\n",
              "                                                    [key], {});\n",
              "        if (!dataTable) return;\n",
              "\n",
              "        const docLinkHtml = 'Like what you see? Visit the ' +\n",
              "          '<a target=\"_blank\" href=https://colab.research.google.com/notebooks/data_table.ipynb>data table notebook</a>'\n",
              "          + ' to learn more about interactive tables.';\n",
              "        element.innerHTML = '';\n",
              "        dataTable['output_type'] = 'display_data';\n",
              "        await google.colab.output.renderOutput(dataTable, element);\n",
              "        const docLink = document.createElement('div');\n",
              "        docLink.innerHTML = docLinkHtml;\n",
              "        element.appendChild(docLink);\n",
              "      }\n",
              "    </script>\n",
              "  </div>\n",
              "\n",
              "\n",
              "<div id=\"df-9987890d-63aa-4b2e-b884-57ffb9cdecd2\">\n",
              "  <button class=\"colab-df-quickchart\" onclick=\"quickchart('df-9987890d-63aa-4b2e-b884-57ffb9cdecd2')\"\n",
              "            title=\"Suggest charts\"\n",
              "            style=\"display:none;\">\n",
              "\n",
              "<svg xmlns=\"http://www.w3.org/2000/svg\" height=\"24px\"viewBox=\"0 0 24 24\"\n",
              "     width=\"24px\">\n",
              "    <g>\n",
              "        <path d=\"M19 3H5c-1.1 0-2 .9-2 2v14c0 1.1.9 2 2 2h14c1.1 0 2-.9 2-2V5c0-1.1-.9-2-2-2zM9 17H7v-7h2v7zm4 0h-2V7h2v10zm4 0h-2v-4h2v4z\"/>\n",
              "    </g>\n",
              "</svg>\n",
              "  </button>\n",
              "\n",
              "<style>\n",
              "  .colab-df-quickchart {\n",
              "      --bg-color: #E8F0FE;\n",
              "      --fill-color: #1967D2;\n",
              "      --hover-bg-color: #E2EBFA;\n",
              "      --hover-fill-color: #174EA6;\n",
              "      --disabled-fill-color: #AAA;\n",
              "      --disabled-bg-color: #DDD;\n",
              "  }\n",
              "\n",
              "  [theme=dark] .colab-df-quickchart {\n",
              "      --bg-color: #3B4455;\n",
              "      --fill-color: #D2E3FC;\n",
              "      --hover-bg-color: #434B5C;\n",
              "      --hover-fill-color: #FFFFFF;\n",
              "      --disabled-bg-color: #3B4455;\n",
              "      --disabled-fill-color: #666;\n",
              "  }\n",
              "\n",
              "  .colab-df-quickchart {\n",
              "    background-color: var(--bg-color);\n",
              "    border: none;\n",
              "    border-radius: 50%;\n",
              "    cursor: pointer;\n",
              "    display: none;\n",
              "    fill: var(--fill-color);\n",
              "    height: 32px;\n",
              "    padding: 0;\n",
              "    width: 32px;\n",
              "  }\n",
              "\n",
              "  .colab-df-quickchart:hover {\n",
              "    background-color: var(--hover-bg-color);\n",
              "    box-shadow: 0 1px 2px rgba(60, 64, 67, 0.3), 0 1px 3px 1px rgba(60, 64, 67, 0.15);\n",
              "    fill: var(--button-hover-fill-color);\n",
              "  }\n",
              "\n",
              "  .colab-df-quickchart-complete:disabled,\n",
              "  .colab-df-quickchart-complete:disabled:hover {\n",
              "    background-color: var(--disabled-bg-color);\n",
              "    fill: var(--disabled-fill-color);\n",
              "    box-shadow: none;\n",
              "  }\n",
              "\n",
              "  .colab-df-spinner {\n",
              "    border: 2px solid var(--fill-color);\n",
              "    border-color: transparent;\n",
              "    border-bottom-color: var(--fill-color);\n",
              "    animation:\n",
              "      spin 1s steps(1) infinite;\n",
              "  }\n",
              "\n",
              "  @keyframes spin {\n",
              "    0% {\n",
              "      border-color: transparent;\n",
              "      border-bottom-color: var(--fill-color);\n",
              "      border-left-color: var(--fill-color);\n",
              "    }\n",
              "    20% {\n",
              "      border-color: transparent;\n",
              "      border-left-color: var(--fill-color);\n",
              "      border-top-color: var(--fill-color);\n",
              "    }\n",
              "    30% {\n",
              "      border-color: transparent;\n",
              "      border-left-color: var(--fill-color);\n",
              "      border-top-color: var(--fill-color);\n",
              "      border-right-color: var(--fill-color);\n",
              "    }\n",
              "    40% {\n",
              "      border-color: transparent;\n",
              "      border-right-color: var(--fill-color);\n",
              "      border-top-color: var(--fill-color);\n",
              "    }\n",
              "    60% {\n",
              "      border-color: transparent;\n",
              "      border-right-color: var(--fill-color);\n",
              "    }\n",
              "    80% {\n",
              "      border-color: transparent;\n",
              "      border-right-color: var(--fill-color);\n",
              "      border-bottom-color: var(--fill-color);\n",
              "    }\n",
              "    90% {\n",
              "      border-color: transparent;\n",
              "      border-bottom-color: var(--fill-color);\n",
              "    }\n",
              "  }\n",
              "</style>\n",
              "\n",
              "  <script>\n",
              "    async function quickchart(key) {\n",
              "      const quickchartButtonEl =\n",
              "        document.querySelector('#' + key + ' button');\n",
              "      quickchartButtonEl.disabled = true;  // To prevent multiple clicks.\n",
              "      quickchartButtonEl.classList.add('colab-df-spinner');\n",
              "      try {\n",
              "        const charts = await google.colab.kernel.invokeFunction(\n",
              "            'suggestCharts', [key], {});\n",
              "      } catch (error) {\n",
              "        console.error('Error during call to suggestCharts:', error);\n",
              "      }\n",
              "      quickchartButtonEl.classList.remove('colab-df-spinner');\n",
              "      quickchartButtonEl.classList.add('colab-df-quickchart-complete');\n",
              "    }\n",
              "    (() => {\n",
              "      let quickchartButtonEl =\n",
              "        document.querySelector('#df-9987890d-63aa-4b2e-b884-57ffb9cdecd2 button');\n",
              "      quickchartButtonEl.style.display =\n",
              "        google.colab.kernel.accessAllowed ? 'block' : 'none';\n",
              "    })();\n",
              "  </script>\n",
              "</div>\n",
              "\n",
              "    </div>\n",
              "  </div>\n"
            ],
            "application/vnd.google.colaboratory.intrinsic+json": {
              "type": "dataframe",
              "variable_name": "df",
              "summary": "{\n  \"name\": \"df\",\n  \"rows\": 1984,\n  \"fields\": [\n    {\n      \"column\": \"Rank\",\n      \"properties\": {\n        \"dtype\": \"number\",\n        \"std\": 94,\n        \"min\": 1,\n        \"max\": 339,\n        \"num_unique_values\": 316,\n        \"samples\": [\n          238,\n          35,\n          225\n        ],\n        \"semantic_type\": \"\",\n        \"description\": \"\"\n      }\n    },\n    {\n      \"column\": \"Player\",\n      \"properties\": {\n        \"dtype\": \"category\",\n        \"num_unique_values\": 459,\n        \"samples\": [\n          \"Thomas Doyle\",\n          \"Konstantinos Mavropanos\",\n          \"Saman Ghoddos\"\n        ],\n        \"semantic_type\": \"\",\n        \"description\": \"\"\n      }\n    },\n    {\n      \"column\": \"Team\",\n      \"properties\": {\n        \"dtype\": \"category\",\n        \"num_unique_values\": 20,\n        \"samples\": [\n          \"Fulham\",\n          \"Wolverhampton Wanderers\",\n          \"Chelsea\"\n        ],\n        \"semantic_type\": \"\",\n        \"description\": \"\"\n      }\n    },\n    {\n      \"column\": \"Interceptions per 90\",\n      \"properties\": {\n        \"dtype\": \"number\",\n        \"std\": 0.33200196108634067,\n        \"min\": 0.0,\n        \"max\": 2.2,\n        \"num_unique_values\": 22,\n        \"samples\": [\n          2.2,\n          0.8,\n          1.3\n        ],\n        \"semantic_type\": \"\",\n        \"description\": \"\"\n      }\n    },\n    {\n      \"column\": \"Total Interceptions\",\n      \"properties\": {\n        \"dtype\": \"number\",\n        \"std\": 8.24072468698013,\n        \"min\": 0.0,\n        \"max\": 80.0,\n        \"num_unique_values\": 53,\n        \"samples\": [\n          21.0,\n          8.0,\n          10.0\n        ],\n        \"semantic_type\": \"\",\n        \"description\": \"\"\n      }\n    },\n    {\n      \"column\": \"Minutes\",\n      \"properties\": {\n        \"dtype\": \"number\",\n        \"std\": 817,\n        \"min\": 0,\n        \"max\": 3420,\n        \"num_unique_values\": 425,\n        \"samples\": [\n          558,\n          1571,\n          2044\n        ],\n        \"semantic_type\": \"\",\n        \"description\": \"\"\n      }\n    },\n    {\n      \"column\": \"Matches\",\n      \"properties\": {\n        \"dtype\": \"number\",\n        \"std\": 7,\n        \"min\": 1,\n        \"max\": 38,\n        \"num_unique_values\": 38,\n        \"samples\": [\n          5,\n          1,\n          31\n        ],\n        \"semantic_type\": \"\",\n        \"description\": \"\"\n      }\n    },\n    {\n      \"column\": \"Country\",\n      \"properties\": {\n        \"dtype\": \"category\",\n        \"num_unique_values\": 63,\n        \"samples\": [\n          \"GRN\",\n          \"TUR\",\n          \"USA\"\n        ],\n        \"semantic_type\": \"\",\n        \"description\": \"\"\n      }\n    },\n    {\n      \"column\": \"FotMob Rating\",\n      \"properties\": {\n        \"dtype\": \"number\",\n        \"std\": 2.4362168746832804,\n        \"min\": 0.0,\n        \"max\": 8.12,\n        \"num_unique_values\": 116,\n        \"samples\": [\n          6.69,\n          7.78,\n          7.12\n        ],\n        \"semantic_type\": \"\",\n        \"description\": \"\"\n      }\n    },\n    {\n      \"column\": \"Player of the Match Awards\",\n      \"properties\": {\n        \"dtype\": \"number\",\n        \"std\": 0.7651668859342059,\n        \"min\": 0.0,\n        \"max\": 10.0,\n        \"num_unique_values\": 10,\n        \"samples\": [\n          2.0,\n          6.0,\n          3.0\n        ],\n        \"semantic_type\": \"\",\n        \"description\": \"\"\n      }\n    },\n    {\n      \"column\": \"Red Cards\",\n      \"properties\": {\n        \"dtype\": \"number\",\n        \"std\": 0.23588407704958977,\n        \"min\": 0.0,\n        \"max\": 2.0,\n        \"num_unique_values\": 3,\n        \"samples\": [\n          0.0,\n          2.0,\n          1.0\n        ],\n        \"semantic_type\": \"\",\n        \"description\": \"\"\n      }\n    },\n    {\n      \"column\": \"Yellow Cards\",\n      \"properties\": {\n        \"dtype\": \"number\",\n        \"std\": 2.0972639718611505,\n        \"min\": 0.0,\n        \"max\": 13.0,\n        \"num_unique_values\": 14,\n        \"samples\": [\n          2.0,\n          13.0,\n          0.0\n        ],\n        \"semantic_type\": \"\",\n        \"description\": \"\"\n      }\n    },\n    {\n      \"column\": \"Clearances per 90\",\n      \"properties\": {\n        \"dtype\": \"number\",\n        \"std\": 0.8020638557727365,\n        \"min\": 0.0,\n        \"max\": 6.0,\n        \"num_unique_values\": 53,\n        \"samples\": [\n          3.5,\n          1.2,\n          0.6\n        ],\n        \"semantic_type\": \"\",\n        \"description\": \"\"\n      }\n    },\n    {\n      \"column\": \"Total Clearances\",\n      \"properties\": {\n        \"dtype\": \"number\",\n        \"std\": 20.888392644810303,\n        \"min\": 0.0,\n        \"max\": 202.0,\n        \"num_unique_values\": 102,\n        \"samples\": [\n          97.0,\n          39.0,\n          41.0\n        ],\n        \"semantic_type\": \"\",\n        \"description\": \"\"\n      }\n    },\n    {\n      \"column\": \"Shots on Target per 90\",\n      \"properties\": {\n        \"dtype\": \"number\",\n        \"std\": 0.25954247191347163,\n        \"min\": 0.0,\n        \"max\": 2.1,\n        \"num_unique_values\": 21,\n        \"samples\": [\n          0.0,\n          0.4,\n          0.6\n        ],\n        \"semantic_type\": \"\",\n        \"description\": \"\"\n      }\n    },\n    {\n      \"column\": \"Shot Accuracy (%)\",\n      \"properties\": {\n        \"dtype\": \"number\",\n        \"std\": 12.918207154644854,\n        \"min\": 0.0,\n        \"max\": 100.0,\n        \"num_unique_values\": 146,\n        \"samples\": [\n          43.1,\n          23.3,\n          43.2\n        ],\n        \"semantic_type\": \"\",\n        \"description\": \"\"\n      }\n    },\n    {\n      \"column\": \"Tackles per 90\",\n      \"properties\": {\n        \"dtype\": \"number\",\n        \"std\": 0.42326291758830586,\n        \"min\": 0.0,\n        \"max\": 2.6,\n        \"num_unique_values\": 27,\n        \"samples\": [\n          1.9,\n          1.4,\n          1.8\n        ],\n        \"semantic_type\": \"\",\n        \"description\": \"\"\n      }\n    },\n    {\n      \"column\": \"Tackle Success Rate (%)\",\n      \"properties\": {\n        \"dtype\": \"number\",\n        \"std\": 21.57160883245195,\n        \"min\": 0.0,\n        \"max\": 100.0,\n        \"num_unique_values\": 153,\n        \"samples\": [\n          54.5,\n          48.5,\n          83.3\n        ],\n        \"semantic_type\": \"\",\n        \"description\": \"\"\n      }\n    }\n  ]\n}"
            }
          },
          "metadata": {},
          "execution_count": 19
        }
      ],
      "source": [
        "# Esta celda se encarga de cargar los datos. ¿La necesitas modificar? ¡Adelante!\n",
        "\n",
        "df = combined_df\n",
        "print(f'{df.shape[0]} rows x {df.shape[1]} columns')\n",
        "df.head(5)"
      ]
    },
    {
      "cell_type": "code",
      "execution_count": null,
      "metadata": {
        "id": "1eppu4H8vZ3X"
      },
      "outputs": [],
      "source": [
        "# ¿Necesitas más celdas antes de empezar a trabajar? ¡Agrega todas las que necesites!\n",
        "# No olvides que en la pregunta 1 es donde debes hacer la limpieza de datos.\n",
        "\n",
        "# [ AGREGA AQUÍ TU CÓDIGO ]"
      ]
    },
    {
      "cell_type": "markdown",
      "metadata": {
        "id": "w5Zwx9qovZ3X"
      },
      "source": [
        "# 1. ¿Cargaste los datos? ¡Toca limpiarlos! La empresa no ha tocado esos datos. ¿Se los puedes explicar?\n",
        "\n",
        "⁉️ **Consideración:** Asegúrate que no haya datos faltantes, que estén en el formato o tipo de dato correctos, que no haya inconsistencias, que puedas estar seguro que los datos están listos para ser usados. No olvides explicar todas tus decisiones.\n",
        "\n",
        "ℹ️ **HINT 1:** ¿Necesitas crear nuevas columnas? ¿Tienes datos con muchas categorías? ¿Sobran columnas?\n",
        "\n",
        "ℹ️ **HINT 2:** Recuerda que esta sección debe cumplir con los criterios para elegir la base de datos.\n",
        "\n",
        "ℹ️ **HINT 3:** Toma de inspiración la pregunta 2 del MP1.\n",
        "\n",
        "---\n",
        "\n",
        "✅ **Explicación:**\n",
        "\n",
        "[ AGREGA TU RESPUESTA ACÁ ]"
      ]
    },
    {
      "cell_type": "code",
      "execution_count": null,
      "metadata": {
        "id": "1Ber5RHBvZ3Y"
      },
      "outputs": [],
      "source": [
        "# [ AGREGA AQUÍ TU CÓDIGO ] ¿Necesitas más celdas? ¡Adelante!"
      ]
    },
    {
      "cell_type": "code",
      "execution_count": null,
      "metadata": {
        "id": "U9TWkQyPvZ3Y"
      },
      "outputs": [],
      "source": [
        "# [ AGREGA AQUÍ TU CÓDIGO ] ¿Necesitas más celdas? ¡Adelante!"
      ]
    },
    {
      "cell_type": "code",
      "execution_count": null,
      "metadata": {
        "id": "MzAOLSxuvZ3Y"
      },
      "outputs": [],
      "source": [
        "# [ AGREGA AQUÍ TU CÓDIGO ] ¿Necesitas más celdas? ¡Adelante!"
      ]
    },
    {
      "cell_type": "markdown",
      "metadata": {
        "id": "H-kGSN86vZ3Y"
      },
      "source": [
        "# 2. Datos limpios. Pues, es hora de un... ¡Análisis Exploratorio de Datos!\n",
        "\n",
        "⁉️ **Consideración:** ¡Es hora del EDA! Es importante entender muy bien que **información** contienen tus datos. Para esto, considerando las necesidades de tu empresa, plantearás 5 preguntas interesantes para ella que se puedan responder al analizar tus datos.\n",
        "\n",
        "ℹ️ **HINT 1 :** Busca preguntas relevantes y no triviales. Utiliza gráficos, estadísticas, lo que se ocurra para explotar la información de los datos.\n",
        "\n",
        "ℹ️ **HINT 2:** Inspírate en las preguntas 3 y 4 del MP1.\n",
        "\n",
        "---\n",
        "\n",
        "✅ **Explicación:**\n",
        "\n",
        "- **Pregunta 1: ¿[ PREGUNTA ACÁ ]?**\n",
        "\n",
        "    [ AGREGA TU RESPUESTA ACÁ ]\n",
        "\n",
        "- **Pregunta 2: ¿[ PREGUNTA ACÁ ]?**\n",
        "\n",
        "    [ AGREGA TU RESPUESTA ACÁ ]\n",
        "\n",
        "- **Pregunta 3: ¿[ PREGUNTA ACÁ ]?**\n",
        "\n",
        "    [ AGREGA TU RESPUESTA ACÁ ]\n",
        "\n",
        "- **Pregunta 4: ¿[ PREGUNTA ACÁ ]?**\n",
        "\n",
        "    [ AGREGA TU RESPUESTA ACÁ ]\n",
        "\n",
        "- **Pregunta 5: ¿[ PREGUNTA ACÁ ]?**\n",
        "\n",
        "    [ AGREGA TU RESPUESTA ACÁ ]"
      ]
    },
    {
      "cell_type": "code",
      "execution_count": null,
      "metadata": {
        "id": "DZ3vEbxbvZ3Y"
      },
      "outputs": [],
      "source": [
        "# PREGUNTA 1: [ PREGUNTA ACÁ ]\n",
        "\n",
        "# [ AGREGA AQUÍ TU CÓDIGO ]"
      ]
    },
    {
      "cell_type": "code",
      "execution_count": null,
      "metadata": {
        "id": "zxCi0QxzvZ3Y"
      },
      "outputs": [],
      "source": [
        "# PREGUNTA 2: [ PREGUNTA ACÁ ]\n",
        "\n",
        "# [ AGREGA AQUÍ TU CÓDIGO ]"
      ]
    },
    {
      "cell_type": "code",
      "execution_count": null,
      "metadata": {
        "id": "HkB85mk5vZ3Y"
      },
      "outputs": [],
      "source": [
        "# PREGUNTA 3: [ PREGUNTA ACÁ ]\n",
        "\n",
        "# [ AGREGA AQUÍ TU CÓDIGO ]"
      ]
    },
    {
      "cell_type": "code",
      "execution_count": null,
      "metadata": {
        "id": "BV6CzrdXvZ3Y"
      },
      "outputs": [],
      "source": [
        "# PREGUNTA 4: [ PREGUNTA ACÁ ]\n",
        "\n",
        "# [ AGREGA AQUÍ TU CÓDIGO ]"
      ]
    },
    {
      "cell_type": "code",
      "execution_count": null,
      "metadata": {
        "id": "E8ew0lUTvZ3Z"
      },
      "outputs": [],
      "source": [
        "# PREGUNTA 5: [ PREGUNTA ACÁ ]\n",
        "\n",
        "# [ AGREGA AQUÍ TU CÓDIGO ]"
      ]
    },
    {
      "cell_type": "markdown",
      "metadata": {
        "id": "Ucp4M5EpvZ3Z"
      },
      "source": [
        "# 3. ¡Vamos con el ML... ¿Qué? ¿Hay que preparar los datos primero?\n",
        "\n",
        "⁉️ **Consideración:** En las siguientes preguntas harás clusterización y aprendizaje de máquina... prepara tus datos pensando en los modelos que utilizarás. Acá se toman los datos limpios y se pasan a numérico, se cambian las escalas, se agregan columnas para mejorar los resultados de los modelos, etc. Justifica todas tus decisiones.\n",
        "\n",
        "ℹ️ **HINT:** ¿*Encoding*? ¿Normalización? ¿*Feature Engineering*?\n",
        "\n",
        "---\n",
        "\n",
        "✅ **Explicación:**\n",
        "\n",
        "[ AGREGA TU RESPUESTA ACÁ ]"
      ]
    },
    {
      "cell_type": "code",
      "execution_count": null,
      "metadata": {
        "id": "aSCF5mPXvZ3Z"
      },
      "outputs": [],
      "source": [
        "# [ AGREGA AQUÍ TU CÓDIGO ] ¿Necesitas más celdas? ¡Adelante!"
      ]
    },
    {
      "cell_type": "code",
      "execution_count": null,
      "metadata": {
        "id": "pKx8ocyKvZ3Z"
      },
      "outputs": [],
      "source": [
        "# [ AGREGA AQUÍ TU CÓDIGO ] ¿Necesitas más celdas? ¡Adelante!"
      ]
    },
    {
      "cell_type": "code",
      "execution_count": null,
      "metadata": {
        "id": "kv_2Z725vZ3Z"
      },
      "outputs": [],
      "source": [
        "# [ AGREGA AQUÍ TU CÓDIGO ] ¿Necesitas más celdas? ¡Adelante!"
      ]
    },
    {
      "cell_type": "markdown",
      "metadata": {
        "id": "bXbCjgadvZ3Z"
      },
      "source": [
        "# 4. ¡Grupos everywhere!\n",
        "\n",
        "⁉️ **Consideración:** Utiliza técnicas de clusterización para encontrar grupos dentro de tus datos. Recuerda colorear tus gráficos correctamente para que podamos ver los grupos. Sí, debes de graficar tus resultados. ¿En 2D, 3D, 4D? Queda a tu decisión. Recuerda que solo puedes usar métodos de clusterización de `sklearn`.\n",
        "\n",
        "ℹ️ **HINT 1:** No olvides que cada método es diferente. ¿Justificarás por qué elegiste ese método?\n",
        "\n",
        "ℹ️ **HINT 2:** No olvides explicar cómo eliges tus hiperparámetros.\n",
        "\n",
        "ℹ️ **HINT 3:** ¿No encuentras grupos? ¿Sabías que PCA y otras técnicas de reducción de dimensionalidad son útiles para *clustering*?\n",
        "\n",
        "---\n",
        "\n",
        "✅ **Explicación:**\n",
        "\n",
        "[ AGREGA TU RESPUESTA ACÁ ]"
      ]
    },
    {
      "cell_type": "code",
      "execution_count": null,
      "metadata": {
        "id": "ChbEAbHgvZ3Z"
      },
      "outputs": [],
      "source": [
        "# [ AGREGA AQUÍ TU CÓDIGO ] ¿Necesitas más celdas? ¡Adelante!"
      ]
    },
    {
      "cell_type": "code",
      "execution_count": null,
      "metadata": {
        "id": "2dMzY-7WvZ3Z"
      },
      "outputs": [],
      "source": [
        "# [ AGREGA AQUÍ TU CÓDIGO ] ¿Necesitas más celdas? ¡Adelante!"
      ]
    },
    {
      "cell_type": "code",
      "execution_count": null,
      "metadata": {
        "id": "ZQIh37fIvZ3Z"
      },
      "outputs": [],
      "source": [
        "# [ AGREGA AQUÍ TU CÓDIGO ] ¿Necesitas más celdas? ¡Adelante!"
      ]
    },
    {
      "cell_type": "code",
      "execution_count": null,
      "metadata": {
        "id": "eFpohY9CvZ3Z"
      },
      "outputs": [],
      "source": [
        "# BONUS: +0.5 puntos.\n",
        "# Si no harás el bonus, elimina esta sección.\n",
        "\n",
        "# [ AGREGA AQUÍ TU CÓDIGO ]"
      ]
    },
    {
      "cell_type": "markdown",
      "metadata": {
        "id": "-nnLNcBXvZ3a"
      },
      "source": [
        "# 5. ¿Podemos predecir algo con estos datos? Demostremos nuestra experiencia.\n",
        "\n",
        "⁉️ **Consideración:** Es la hora de aplicar modelos de clasificación o regresión (`sklearn`) a los datos. Enfócate en ser ordenado y seguir todos los pasos: datos, entrenamiento, validación, testeo, interpretación, etc. Debes de explicar a fondo tus decisiones de modelo, parámetros, interpretación de resultados, medidas de rendimiento, etc.\n",
        "\n",
        "ℹ️ **HINT 1:** ¿Habías escuchado de Validación Cruzada? ¿Has escuchado de `GridSearchCV`?\n",
        "\n",
        "ℹ️ **HINT 2:** ¿Te fjaste en el *overfitting*?\n",
        "\n",
        "ℹ️ **HINT 3:** ¿Por qué elegiste ese modelo? Puedes utilizar cualquier modelo de `sklearn`.\n",
        "\n",
        "ℹ️ **HINT 4:** Se recomienda que comparen varios modelos. ¿Leíste la documentación de `sklearn`?\n",
        "\n",
        "---\n",
        "\n",
        "✅ **Explicación:**\n",
        "\n",
        "[ AGREGA TU RESPUESTA ACÁ ]"
      ]
    },
    {
      "cell_type": "code",
      "execution_count": null,
      "metadata": {
        "id": "kbMOfgQVvZ3a"
      },
      "outputs": [],
      "source": [
        "# [ AGREGA AQUÍ TU CÓDIGO ] ¿Necesitas más celdas? ¡Adelante!"
      ]
    },
    {
      "cell_type": "code",
      "execution_count": null,
      "metadata": {
        "id": "e-m-dzyYvZ3a"
      },
      "outputs": [],
      "source": [
        "# [ AGREGA AQUÍ TU CÓDIGO ] ¿Necesitas más celdas? ¡Adelante!"
      ]
    },
    {
      "cell_type": "code",
      "execution_count": null,
      "metadata": {
        "id": "668kjTi_vZ3a"
      },
      "outputs": [],
      "source": [
        "# [ AGREGA AQUÍ TU CÓDIGO ] ¿Necesitas más celdas? ¡Adelante!"
      ]
    },
    {
      "cell_type": "markdown",
      "metadata": {
        "id": "3zus4aW_vZ3a"
      },
      "source": [
        "# 6. ¿Puedes explicar mejor tus resultados? ¡De Junior a Senior!\n",
        "\n",
        "⁉️ **Consideración:** Para pasar de ser una *Data Scientist Junior* a *Senior* deberás ser muy bueno para interpretar y mejorar los resultados de tu modelo. ¿Qué otras mediciones puedes utilizar? ¿Cómo puedes modificar tus datos? ¿Qué datos te faltan? ¿Qué impacta más a tu predicción? ¿Por qué hay métricas más importantes que otras? ¡Y muchas preguntas más! Ahonda en los resultados de tus modelos.\n",
        "\n",
        "ℹ️ **HINT 1:** ¿Qué otras métricas existen? ¿Matrices de confusión? ¿Por qué hay clases que funcionan peor?\n",
        "\n",
        "ℹ️ **HINT 2:** ¿Consideraste la reducción de dimensionalidad?\n",
        "\n",
        "ℹ️ **HINT 3:** ¿Conoces la librería `SHAP`? ¿O los *Partial Dependece Plots*?\n",
        "\n",
        "---\n",
        "\n",
        "✅ **Explicación:**\n",
        "\n",
        "[ AGREGA TU RESPUESTA ACÁ ]"
      ]
    },
    {
      "cell_type": "code",
      "execution_count": null,
      "metadata": {
        "id": "Yg2BBNezvZ3a"
      },
      "outputs": [],
      "source": [
        "# [ AGREGA AQUÍ TU CÓDIGO ] ¿Necesitas más celdas? ¡Adelante!"
      ]
    },
    {
      "cell_type": "code",
      "execution_count": null,
      "metadata": {
        "id": "lkkRkWsfvZ3a"
      },
      "outputs": [],
      "source": [
        "# [ AGREGA AQUÍ TU CÓDIGO ] ¿Necesitas más celdas? ¡Adelante!"
      ]
    },
    {
      "cell_type": "code",
      "execution_count": null,
      "metadata": {
        "id": "n2XFllIPvZ3a"
      },
      "outputs": [],
      "source": [
        "# [ AGREGA AQUÍ TU CÓDIGO ] ¿Necesitas más celdas? ¡Adelante!"
      ]
    },
    {
      "cell_type": "markdown",
      "metadata": {
        "id": "SlvkuCkDvZ3a"
      },
      "source": [
        "> # ¡NO OLVIDES GUARDAR Y SUBIR EL NOTEBOOK A LA PLATAFORMA CUANDO TERMINES! FORMATO .ipynb\n",
        "\n",
        "> # ¡NO OLVIDES SUBIR LOS DATOS ORIGINALES A LA PLATAFORMA!"
      ]
    }
  ],
  "metadata": {
    "kernelspec": {
      "display_name": "myenv",
      "language": "python",
      "name": "myenv"
    },
    "language_info": {
      "codemirror_mode": {
        "name": "ipython",
        "version": 3
      },
      "file_extension": ".py",
      "mimetype": "text/x-python",
      "name": "python",
      "nbconvert_exporter": "python",
      "pygments_lexer": "ipython3",
      "version": "3.12.3"
    },
    "colab": {
      "provenance": [],
      "include_colab_link": true
    }
  },
  "nbformat": 4,
  "nbformat_minor": 0
}