{
 "cells": [
  {
   "cell_type": "markdown",
   "metadata": {},
   "source": [
    "# Miniproyecto 3: ¿Te gustaría ser *Data Scientist Senior*?\n",
    "#### **Curso:** Introducción a Minería de Datos y Machine Learning\n",
    "\n",
    "---\n",
    "\n",
    "**¡Tienes una oferta de trabajo!**\n",
    "\n",
    "Una empresa se enteró de tu **excelente** trabajo como *Data Scientist Junior* en **AMAZOFF**.\n",
    "\n",
    "¡Quieren que trabajes con ellos como ***Data Scientist Senior***!\n",
    "\n",
    "Para la entrevista de trabajo, te han pedido que utilices tus poderes de ***Machine Learning*** en sus bases de datos.\n",
    "\n",
    "**¿Estás listo para el reto?**"
   ]
  },
  {
   "cell_type": "markdown",
   "metadata": {},
   "source": [
    "# ¿Qué empresa te quiere en su equipo?\n",
    "\n",
    "En este MP3 deberás buscar una base de datos y aplicar tus conocimientos de *Machine Learning*.\n",
    "\n",
    "Una vez elegida la base de datos, deberás inventar una empresa ficticia que te busca para el puesto de *Data Scientist Senior*.\n",
    "\n",
    "La empresa debe de tener sentido con los datos y lo que quieres predecir usando *Machine Learning*.\n",
    "\n",
    "## ¿Cómo elegir la base de datos?\n",
    "\n",
    "Puedes utilizar cualquier base de datos que esté publicada en internet de forma libre. Esta base de datos debe por lo menos cumplir con:\n",
    "\n",
    "- Tener al menos 1000 filas después de limpiarla.\n",
    "- Tener al menos 5 columnas con información relevante (no cuentan: *ids*, *index*, etc.) después de limpiarla.\n",
    "- No tener consideraciones éticas graves. Ejemplo: datos privados de una empresa real.\n",
    "- Debe tener al menos una columna (aparte de las 5 relevantes) para predecir (columna `label`o `target`).\n",
    "- El ejercio contempla solo una base de datos. Si tus datos vienen originalmente en más de una, deberás juntarlos (ejemplo: `join`, `merge`, etc.) en la pregunta 1. Debes cargar todos los datos necesarios en la sección de **Preámbulo**."
   ]
  },
  {
   "cell_type": "markdown",
   "metadata": {},
   "source": [
    "# Define tu empresa\n",
    "\n",
    "> **¡No olvides elegir tus datos primero!**\n",
    "\n",
    "- **Nombre de la empresa**: [ NOMBRE FICTICIO DE TU EMPRESA ]\n",
    "- **Descripción de la empresa**: [ DESCRIPCIÓN DE TU EMPRESA ]"
   ]
  },
  {
   "cell_type": "markdown",
   "metadata": {},
   "source": [
    "# Pauta de Evaluación\n",
    "\n",
    "Este MP3 está enfocado en responder preguntas de negocio relevantes para tu nueva empresa (creada por ti).\n",
    "\n",
    "### Preguntas de Negocio\n",
    "\n",
    "1. (10 puntos) ¿Cargaste los datos? ¡Toca limpiarlos! La empresa no ha tocado esos datos. ¿Se los puedes explicar?\n",
    "2. (15 puntos) Datos limpios. Pues, es hora de un... ¡Análisis Exploratorio de Datos!\n",
    "3. (10 puntos) ¡Vamos con el ML... ¿Qué? ¿Hay que preparar los datos primero?\n",
    "4. (20 puntos) ¡Grupos everywhere!\n",
    "5. (25 puntos) ¿Podemos predecir algo con estos datos? Demostremos nuestra experiencia.\n",
    "6. (20 puntos) ¿Puedes explicar mejor tus resultados? ¡De Junior a Senior!\n",
    "\n",
    "### Tener en consideración:\n",
    "\n",
    "En caso de que el código esté bien, pero no se responda (usando celdas de texto) la pregunta de negocio (sección **Explicación**), **se asignará máximo la mitad de puntos** de esa pregunta.\n",
    "\n",
    "> # ¡NO OLVIDES GUARDAR Y SUBIR EL NOTEBOOK A LA PLATAFORMA CUANDO TERMINES! FORMATO .ipynb\n",
    "\n",
    "> # ¡NO OLVIDES SUBIR LOS DATOS ORIGINALES A LA PLATAFORMA!"
   ]
  },
  {
   "cell_type": "markdown",
   "metadata": {},
   "source": [
    "# Preámbulo"
   ]
  },
  {
   "cell_type": "code",
   "execution_count": null,
   "metadata": {},
   "outputs": [],
   "source": [
    "# Agrega todas las librerias necesarias para el proyecto en su sección correspondiente\n",
    "\n",
    "# Clustering\n",
    "from sklearn.cluster import KMeans\n",
    "\n",
    "# Machine Learning\n",
    "from sklearn.metrics import classification_report, confusion_matrix, accuracy_score\n",
    "from sklearn.preprocessing import LabelEncoder, OneHotEncoder, OrdinalEncoder\n",
    "from sklearn.preprocessing import StandardScaler, MinMaxScaler\n",
    "from sklearn.model_selection import train_test_split\n",
    "from sklearn.ensemble import RandomForestClassifier\n",
    "from sklearn.neighbors import KNeighborsClassifier\n",
    "\n",
    "# General Data Science\n",
    "from matplotlib import pyplot as plt\n",
    "import seaborn as sns\n",
    "import pandas as pd\n",
    "import numpy as np"
   ]
  },
  {
   "cell_type": "code",
   "execution_count": null,
   "metadata": {},
   "outputs": [],
   "source": [
    "# Esta configuración permite que los dataframes se muestren completos.\n",
    "pd.set_option('display.max_columns', None)"
   ]
  },
  {
   "cell_type": "code",
   "execution_count": null,
   "metadata": {},
   "outputs": [],
   "source": [
    "# PARÁMETROS (puedes modificar esta sección)\n",
    "\n",
    "DATA_PATH = 'ecommerce.csv' # Si tienes el archivo en otro lugar, cámbialo.\n",
    "RANDOM_STATE = 0 # ¡Cámbialo a tu número favorito!"
   ]
  },
  {
   "cell_type": "code",
   "execution_count": null,
   "metadata": {},
   "outputs": [],
   "source": [
    "# Esta celda se encarga de cargar los datos. ¿La necesitas modificar? ¡Adelante!\n",
    "\n",
    "df = pd.read_csv(DATA_PATH)\n",
    "print(f'{df.shape[0]} rows x {df.shape[1]} columns')\n",
    "df.head(5)"
   ]
  },
  {
   "cell_type": "code",
   "execution_count": null,
   "metadata": {},
   "outputs": [],
   "source": [
    "# ¿Necesitas más celdas antes de empezar a trabajar? ¡Agrega todas las que necesites!\n",
    "# No olvides que en la pregunta 1 es donde debes hacer la limpieza de datos.\n",
    "\n",
    "# [ AGREGA AQUÍ TU CÓDIGO ]"
   ]
  },
  {
   "cell_type": "markdown",
   "metadata": {},
   "source": [
    "# 1. ¿Cargaste los datos? ¡Toca limpiarlos! La empresa no ha tocado esos datos. ¿Se los puedes explicar?\n",
    "\n",
    "⁉️ **Consideración:** Asegúrate que no haya datos faltantes, que estén en el formato o tipo de dato correctos, que no haya inconsistencias, que puedas estar seguro que los datos están listos para ser usados. No olvides explicar todas tus decisiones.\n",
    "\n",
    "ℹ️ **HINT 1:** ¿Necesitas crear nuevas columnas? ¿Tienes datos con muchas categorías? ¿Sobran columnas?\n",
    "\n",
    "ℹ️ **HINT 2:** Recuerda que esta sección debe cumplir con los criterios para elegir la base de datos. \n",
    "\n",
    "ℹ️ **HINT 3:** Toma de inspiración la pregunta 2 del MP1.\n",
    "\n",
    "---\n",
    "\n",
    "✅ **Explicación:**\n",
    "\n",
    "[ AGREGA TU RESPUESTA ACÁ ]"
   ]
  },
  {
   "cell_type": "code",
   "execution_count": null,
   "metadata": {},
   "outputs": [],
   "source": [
    "# [ AGREGA AQUÍ TU CÓDIGO ] ¿Necesitas más celdas? ¡Adelante!"
   ]
  },
  {
   "cell_type": "code",
   "execution_count": null,
   "metadata": {},
   "outputs": [],
   "source": [
    "# [ AGREGA AQUÍ TU CÓDIGO ] ¿Necesitas más celdas? ¡Adelante!"
   ]
  },
  {
   "cell_type": "code",
   "execution_count": null,
   "metadata": {},
   "outputs": [],
   "source": [
    "# [ AGREGA AQUÍ TU CÓDIGO ] ¿Necesitas más celdas? ¡Adelante!"
   ]
  },
  {
   "cell_type": "markdown",
   "metadata": {},
   "source": [
    "# 2. Datos limpios. Pues, es hora de un... ¡Análisis Exploratorio de Datos!\n",
    "\n",
    "⁉️ **Consideración:** ¡Es hora del EDA! Es importante entender muy bien que **información** contienen tus datos. Para esto, considerando las necesidades de tu empresa, plantearás 5 preguntas interesantes para ella que se puedan responder al analizar tus datos.\n",
    "\n",
    "ℹ️ **HINT 1 :** Busca preguntas relevantes y no triviales. Utiliza gráficos, estadísticas, lo que se ocurra para explotar la información de los datos.\n",
    "\n",
    "ℹ️ **HINT 2:** Inspírate en las preguntas 3 y 4 del MP1.\n",
    "\n",
    "---\n",
    "\n",
    "✅ **Explicación:**\n",
    "\n",
    "- **Pregunta 1: ¿[ PREGUNTA ACÁ ]?**\n",
    "\n",
    "    [ AGREGA TU RESPUESTA ACÁ ]\n",
    "\n",
    "- **Pregunta 2: ¿[ PREGUNTA ACÁ ]?**\n",
    "\n",
    "    [ AGREGA TU RESPUESTA ACÁ ]\n",
    "\n",
    "- **Pregunta 3: ¿[ PREGUNTA ACÁ ]?**\n",
    "\n",
    "    [ AGREGA TU RESPUESTA ACÁ ]\n",
    "\n",
    "- **Pregunta 4: ¿[ PREGUNTA ACÁ ]?**\n",
    "\n",
    "    [ AGREGA TU RESPUESTA ACÁ ]\n",
    "\n",
    "- **Pregunta 5: ¿[ PREGUNTA ACÁ ]?**\n",
    "\n",
    "    [ AGREGA TU RESPUESTA ACÁ ]"
   ]
  },
  {
   "cell_type": "code",
   "execution_count": null,
   "metadata": {},
   "outputs": [],
   "source": [
    "# PREGUNTA 1: [ PREGUNTA ACÁ ]\n",
    "\n",
    "# [ AGREGA AQUÍ TU CÓDIGO ]"
   ]
  },
  {
   "cell_type": "code",
   "execution_count": null,
   "metadata": {},
   "outputs": [],
   "source": [
    "# PREGUNTA 2: [ PREGUNTA ACÁ ]\n",
    "\n",
    "# [ AGREGA AQUÍ TU CÓDIGO ]"
   ]
  },
  {
   "cell_type": "code",
   "execution_count": null,
   "metadata": {},
   "outputs": [],
   "source": [
    "# PREGUNTA 3: [ PREGUNTA ACÁ ]\n",
    "\n",
    "# [ AGREGA AQUÍ TU CÓDIGO ]"
   ]
  },
  {
   "cell_type": "code",
   "execution_count": null,
   "metadata": {},
   "outputs": [],
   "source": [
    "# PREGUNTA 4: [ PREGUNTA ACÁ ]\n",
    "\n",
    "# [ AGREGA AQUÍ TU CÓDIGO ]"
   ]
  },
  {
   "cell_type": "code",
   "execution_count": null,
   "metadata": {},
   "outputs": [],
   "source": [
    "# PREGUNTA 5: [ PREGUNTA ACÁ ]\n",
    "\n",
    "# [ AGREGA AQUÍ TU CÓDIGO ]"
   ]
  },
  {
   "cell_type": "markdown",
   "metadata": {},
   "source": [
    "# 3. ¡Vamos con el ML... ¿Qué? ¿Hay que preparar los datos primero?\n",
    "\n",
    "⁉️ **Consideración:** En las siguientes preguntas harás clusterización y aprendizaje de máquina... prepara tus datos pensando en los modelos que utilizarás. Acá se toman los datos limpios y se pasan a numérico, se cambian las escalas, se agregan columnas para mejorar los resultados de los modelos, etc. Justifica todas tus decisiones.\n",
    "\n",
    "ℹ️ **HINT:** ¿*Encoding*? ¿Normalización? ¿*Feature Engineering*?\n",
    "\n",
    "---\n",
    "\n",
    "✅ **Explicación:**\n",
    "\n",
    "[ AGREGA TU RESPUESTA ACÁ ]"
   ]
  },
  {
   "cell_type": "code",
   "execution_count": null,
   "metadata": {},
   "outputs": [],
   "source": [
    "# [ AGREGA AQUÍ TU CÓDIGO ] ¿Necesitas más celdas? ¡Adelante!"
   ]
  },
  {
   "cell_type": "code",
   "execution_count": null,
   "metadata": {},
   "outputs": [],
   "source": [
    "# [ AGREGA AQUÍ TU CÓDIGO ] ¿Necesitas más celdas? ¡Adelante!"
   ]
  },
  {
   "cell_type": "code",
   "execution_count": null,
   "metadata": {},
   "outputs": [],
   "source": [
    "# [ AGREGA AQUÍ TU CÓDIGO ] ¿Necesitas más celdas? ¡Adelante!"
   ]
  },
  {
   "cell_type": "markdown",
   "metadata": {},
   "source": [
    "# 4. ¡Grupos everywhere!\n",
    "\n",
    "⁉️ **Consideración:** Utiliza técnicas de clusterización para encontrar grupos dentro de tus datos. Recuerda colorear tus gráficos correctamente para que podamos ver los grupos. Sí, debes de graficar tus resultados. ¿En 2D, 3D, 4D? Queda a tu decisión. Recuerda que solo puedes usar métodos de clusterización de `sklearn`.\n",
    "\n",
    "ℹ️ **HINT 1:** No olvides que cada método es diferente. ¿Justificarás por qué elegiste ese método?\n",
    "\n",
    "ℹ️ **HINT 2:** No olvides explicar cómo eliges tus hiperparámetros. \n",
    "\n",
    "ℹ️ **HINT 3:** ¿No encuentras grupos? ¿Sabías que PCA y otras técnicas de reducción de dimensionalidad son útiles para *clustering*?\n",
    "\n",
    "---\n",
    "\n",
    "✅ **Explicación:**\n",
    "\n",
    "[ AGREGA TU RESPUESTA ACÁ ]"
   ]
  },
  {
   "cell_type": "code",
   "execution_count": null,
   "metadata": {},
   "outputs": [],
   "source": [
    "# [ AGREGA AQUÍ TU CÓDIGO ] ¿Necesitas más celdas? ¡Adelante!"
   ]
  },
  {
   "cell_type": "code",
   "execution_count": null,
   "metadata": {},
   "outputs": [],
   "source": [
    "# [ AGREGA AQUÍ TU CÓDIGO ] ¿Necesitas más celdas? ¡Adelante!"
   ]
  },
  {
   "cell_type": "code",
   "execution_count": null,
   "metadata": {},
   "outputs": [],
   "source": [
    "# [ AGREGA AQUÍ TU CÓDIGO ] ¿Necesitas más celdas? ¡Adelante!"
   ]
  },
  {
   "cell_type": "code",
   "execution_count": null,
   "metadata": {},
   "outputs": [],
   "source": [
    "# BONUS: +0.5 puntos.\n",
    "# Si no harás el bonus, elimina esta sección.\n",
    "\n",
    "# [ AGREGA AQUÍ TU CÓDIGO ]"
   ]
  },
  {
   "cell_type": "markdown",
   "metadata": {},
   "source": [
    "# 5. ¿Podemos predecir algo con estos datos? Demostremos nuestra experiencia.\n",
    "\n",
    "⁉️ **Consideración:** Es la hora de aplicar modelos de clasificación o regresión (`sklearn`) a los datos. Enfócate en ser ordenado y seguir todos los pasos: datos, entrenamiento, validación, testeo, interpretación, etc. Debes de explicar a fondo tus decisiones de modelo, parámetros, interpretación de resultados, medidas de rendimiento, etc.\n",
    "\n",
    "ℹ️ **HINT 1:** ¿Habías escuchado de Validación Cruzada? ¿Has escuchado de `GridSearchCV`?\n",
    "\n",
    "ℹ️ **HINT 2:** ¿Te fjaste en el *overfitting*?\n",
    "\n",
    "ℹ️ **HINT 3:** ¿Por qué elegiste ese modelo? Puedes utilizar cualquier modelo de `sklearn`.\n",
    "\n",
    "ℹ️ **HINT 4:** Se recomienda que comparen varios modelos. ¿Leíste la documentación de `sklearn`?\n",
    "\n",
    "---\n",
    "\n",
    "✅ **Explicación:**\n",
    "\n",
    "[ AGREGA TU RESPUESTA ACÁ ]"
   ]
  },
  {
   "cell_type": "code",
   "execution_count": null,
   "metadata": {},
   "outputs": [],
   "source": [
    "# [ AGREGA AQUÍ TU CÓDIGO ] ¿Necesitas más celdas? ¡Adelante!"
   ]
  },
  {
   "cell_type": "code",
   "execution_count": null,
   "metadata": {},
   "outputs": [],
   "source": [
    "# [ AGREGA AQUÍ TU CÓDIGO ] ¿Necesitas más celdas? ¡Adelante!"
   ]
  },
  {
   "cell_type": "code",
   "execution_count": null,
   "metadata": {},
   "outputs": [],
   "source": [
    "# [ AGREGA AQUÍ TU CÓDIGO ] ¿Necesitas más celdas? ¡Adelante!"
   ]
  },
  {
   "cell_type": "markdown",
   "metadata": {},
   "source": [
    "# 6. ¿Puedes explicar mejor tus resultados? ¡De Junior a Senior!\n",
    "\n",
    "⁉️ **Consideración:** Para pasar de ser una *Data Scientist Junior* a *Senior* deberás ser muy bueno para interpretar y mejorar los resultados de tu modelo. ¿Qué otras mediciones puedes utilizar? ¿Cómo puedes modificar tus datos? ¿Qué datos te faltan? ¿Qué impacta más a tu predicción? ¿Por qué hay métricas más importantes que otras? ¡Y muchas preguntas más! Ahonda en los resultados de tus modelos.\n",
    "\n",
    "ℹ️ **HINT 1:** ¿Qué otras métricas existen? ¿Matrices de confusión? ¿Por qué hay clases que funcionan peor?\n",
    "\n",
    "ℹ️ **HINT 2:** ¿Consideraste la reducción de dimensionalidad?\n",
    "\n",
    "ℹ️ **HINT 3:** ¿Conoces la librería `SHAP`? ¿O los *Partial Dependece Plots*?\n",
    "\n",
    "---\n",
    "\n",
    "✅ **Explicación:**\n",
    "\n",
    "[ AGREGA TU RESPUESTA ACÁ ]"
   ]
  },
  {
   "cell_type": "code",
   "execution_count": null,
   "metadata": {},
   "outputs": [],
   "source": [
    "# [ AGREGA AQUÍ TU CÓDIGO ] ¿Necesitas más celdas? ¡Adelante!"
   ]
  },
  {
   "cell_type": "code",
   "execution_count": null,
   "metadata": {},
   "outputs": [],
   "source": [
    "# [ AGREGA AQUÍ TU CÓDIGO ] ¿Necesitas más celdas? ¡Adelante!"
   ]
  },
  {
   "cell_type": "code",
   "execution_count": null,
   "metadata": {},
   "outputs": [],
   "source": [
    "# [ AGREGA AQUÍ TU CÓDIGO ] ¿Necesitas más celdas? ¡Adelante!"
   ]
  },
  {
   "cell_type": "markdown",
   "metadata": {},
   "source": [
    "> # ¡NO OLVIDES GUARDAR Y SUBIR EL NOTEBOOK A LA PLATAFORMA CUANDO TERMINES! FORMATO .ipynb\n",
    "\n",
    "> # ¡NO OLVIDES SUBIR LOS DATOS ORIGINALES A LA PLATAFORMA!"
   ]
  }
 ],
 "metadata": {
  "kernelspec": {
   "display_name": "myenv",
   "language": "python",
   "name": "myenv"
  },
  "language_info": {
   "codemirror_mode": {
    "name": "ipython",
    "version": 3
   },
   "file_extension": ".py",
   "mimetype": "text/x-python",
   "name": "python",
   "nbconvert_exporter": "python",
   "pygments_lexer": "ipython3",
   "version": "3.12.3"
  }
 },
 "nbformat": 4,
 "nbformat_minor": 2
}
