{
  "cells": [
    {
      "cell_type": "markdown",
      "metadata": {
        "id": "view-in-github",
        "colab_type": "text"
      },
      "source": [
        "<a href=\"https://colab.research.google.com/github/julvc/python_diplo/blob/master/MP2.ipynb\" target=\"_parent\"><img src=\"https://colab.research.google.com/assets/colab-badge.svg\" alt=\"Open In Colab\"/></a>"
      ]
    },
    {
      "cell_type": "markdown",
      "metadata": {
        "id": "uyivns01f9Yy"
      },
      "source": [
        "# Miniproyecto 2: Machine Learning con Valor\n",
        "#### **Curso:** Introducción a Minería de Datos y Machine Learning\n",
        "\n",
        "---\n",
        "\n",
        "**¡Felicidades por tu excelente trabajo en el MP1!**\n",
        "\n",
        "Tu labor en el preprocesamiento de la base de datos ha causado un gran impacto en **AMAZOFF**.\n",
        "\n",
        "El equipo de Customer Experience ha quedado impresionado con tu habilidad para transformar datos sucios en información\n",
        "útil y ahora quieren aprovechar tus talentos para enfrentar un nuevo desafío.\n",
        "\n",
        "Nos han pedido desarrollar un **Predictor de Ratings de Pedidos** utilizando los datos preprocesados de ratings de\n",
        "pedidos de nuestra plataforma de e-commerce."
      ]
    },
    {
      "cell_type": "markdown",
      "metadata": {
        "id": "gR-Qdqc8f9Yz"
      },
      "source": [
        "# Pauta de Evaluación\n",
        "\n",
        "Este MP2 está enfocado en responder preguntas de negocio relevantes para **AMAZOFF**.\n",
        "\n",
        "### Preguntas de Negocio\n",
        "\n",
        "1. (15 puntos) El equipo necesita extraer la máxima información de los datos. ¿Cómo modificarías la base de datos para ser usada con modelos de ML?\n",
        "2. (15 puntos) ¡Wow! Gran *feature engineering*. Toca armar tu set para entrenar el modelo. ¿Podrías generar gráficas para el equipo de Customer Experience que expliquen mejor los datos nuevos? ¡No olvides explicarlas!\n",
        "3. (10 puntos) Dicen que se pueden encontrar patrones en tus datos de entrenamiento. ¿Qué patrones encuentras en los pedidos? ¿Cómo pueden ser de utilidad para mejorar las ventas de AMAZOFF?\n",
        "4. (25 puntos) ¡Viva el ML! Toca predecir la satisfacción del cliente. ¿Es posible predecir bien el `rating_class`?\n",
        "5. (20 puntos) El equipo de Customer Experience dice que un solo modelo no es suficiente. ¿Podrías implementar otro?\n",
        "6. (15 puntos) ¡Dos modelos! Eso es genial. ¿Qué modelo funcionó peor? ¿Si utilizas PCA podría mejor?\n",
        "\n",
        "### Tener en consideración:\n",
        "\n",
        "En caso de que el código esté bien, pero no se responda (usando celdas de texto) la pregunta de negocio (sección **Explicación**), **se asignará máximo la mitad de puntos** de esa pregunta.\n",
        "\n",
        "El miniproyecto está diseñado para completar código. Suba el notebook solo con el código para responder la pregunta de negocio.\n",
        "\n",
        "> # ¡NO OLVIDES GUARDAR Y SUBIR EL NOTEBOOK A LA PLATAFORMA CUANDO TERMINES! FORMATO .ipynb"
      ]
    },
    {
      "cell_type": "markdown",
      "metadata": {
        "id": "M0-HUQVGf9Yz"
      },
      "source": [
        "# Preámbulo\n",
        "\n",
        "**¡Cuidado!** En esta sección solo puedes modificar la sección de PÁRAMETROS."
      ]
    },
    {
      "cell_type": "code",
      "execution_count": 1,
      "metadata": {
        "id": "vCtLq61Lf9Yz"
      },
      "outputs": [],
      "source": [
        "# ¡No modificar esta celda! No está permitido usar librerías adicionales.\n",
        "\n",
        "# Association Rules\n",
        "from mlxtend.frequent_patterns import apriori, association_rules\n",
        "\n",
        "# Machine Learning\n",
        "from sklearn.metrics import classification_report, confusion_matrix, accuracy_score\n",
        "from sklearn.preprocessing import LabelEncoder, OneHotEncoder, OrdinalEncoder\n",
        "from sklearn.preprocessing import StandardScaler, MinMaxScaler\n",
        "from sklearn.model_selection import train_test_split\n",
        "from sklearn.ensemble import RandomForestClassifier\n",
        "from sklearn.neighbors import KNeighborsClassifier\n",
        "from sklearn.decomposition import PCA\n",
        "\n",
        "# General Data Science\n",
        "from matplotlib import pyplot as plt\n",
        "import seaborn as sns\n",
        "import pandas as pd\n",
        "import numpy as np"
      ]
    },
    {
      "cell_type": "code",
      "execution_count": 4,
      "metadata": {
        "id": "6B9pOspef9Y0"
      },
      "outputs": [],
      "source": [
        "# Esta configuración permite que los dataframes se muestren completos.\n",
        "import warnings ; warnings.warn = lambda *args,**kwargs: None\n",
        "pd.set_option('display.max_columns', None)"
      ]
    },
    {
      "cell_type": "code",
      "execution_count": 5,
      "metadata": {
        "id": "BoXhS6eVf9Y0"
      },
      "outputs": [],
      "source": [
        "# PARÁMETROS (puedes modificar esta sección)\n",
        "\n",
        "DATA_PATH = 'ecommerce.csv' # Si tienes el archivo en otro lugar, cámbialo.\n",
        "RANDOM_STATE = 0 # ¡Cámbialo a tu número favorito!"
      ]
    },
    {
      "cell_type": "code",
      "execution_count": 6,
      "metadata": {
        "id": "nCSyCZ4cf9Y0",
        "outputId": "6bf3feb1-fcf0-4f40-dc8a-d8ddb2faab4d",
        "colab": {
          "base_uri": "https://localhost:8080/",
          "height": 224
        }
      },
      "outputs": [
        {
          "output_type": "stream",
          "name": "stdout",
          "text": [
            "63606 rows x 14 columns\n"
          ]
        },
        {
          "output_type": "execute_result",
          "data": {
            "text/plain": [
              "   order  product  seller  customer        city state    category   price  \\\n",
              "0      0        0       0         0     unknown    SP      health  223.51   \n",
              "1      1        1       1         1     unknown    RJ      health  170.80   \n",
              "2      2        2       2         2     unknown    SP  technology   64.40   \n",
              "3      3        1       3         3  uberlandia    MG  technology  264.50   \n",
              "4      4        3       4         4     unknown    SP  technology  779.90   \n",
              "\n",
              "   shipping      payment           purchased           delivered  \\\n",
              "0     84.65  credit card 2017-10-22 18:57:54 2017-10-26 22:19:52   \n",
              "1     23.79  credit card 2018-06-20 21:40:31 2018-07-03 22:51:22   \n",
              "2     17.38  credit card 2018-02-16 16:19:31 2018-02-27 01:29:50   \n",
              "3     30.72  credit card 2018-08-18 18:04:29 2018-08-27 20:03:51   \n",
              "4     30.66  credit card 2017-12-22 16:44:04 2018-01-05 19:22:49   \n",
              "\n",
              "   estimated_delivery  rating  \n",
              "0 2017-11-09 12:00:00     1.0  \n",
              "1 2018-07-24 12:00:00     4.5  \n",
              "2 2018-03-08 12:00:00     3.5  \n",
              "3 2018-09-19 12:00:00     3.0  \n",
              "4 2018-01-18 12:00:00     2.5  "
            ],
            "text/html": [
              "\n",
              "  <div id=\"df-18a6c6ef-7ecc-479c-9d77-52d6641b56f2\" class=\"colab-df-container\">\n",
              "    <div>\n",
              "<style scoped>\n",
              "    .dataframe tbody tr th:only-of-type {\n",
              "        vertical-align: middle;\n",
              "    }\n",
              "\n",
              "    .dataframe tbody tr th {\n",
              "        vertical-align: top;\n",
              "    }\n",
              "\n",
              "    .dataframe thead th {\n",
              "        text-align: right;\n",
              "    }\n",
              "</style>\n",
              "<table border=\"1\" class=\"dataframe\">\n",
              "  <thead>\n",
              "    <tr style=\"text-align: right;\">\n",
              "      <th></th>\n",
              "      <th>order</th>\n",
              "      <th>product</th>\n",
              "      <th>seller</th>\n",
              "      <th>customer</th>\n",
              "      <th>city</th>\n",
              "      <th>state</th>\n",
              "      <th>category</th>\n",
              "      <th>price</th>\n",
              "      <th>shipping</th>\n",
              "      <th>payment</th>\n",
              "      <th>purchased</th>\n",
              "      <th>delivered</th>\n",
              "      <th>estimated_delivery</th>\n",
              "      <th>rating</th>\n",
              "    </tr>\n",
              "  </thead>\n",
              "  <tbody>\n",
              "    <tr>\n",
              "      <th>0</th>\n",
              "      <td>0</td>\n",
              "      <td>0</td>\n",
              "      <td>0</td>\n",
              "      <td>0</td>\n",
              "      <td>unknown</td>\n",
              "      <td>SP</td>\n",
              "      <td>health</td>\n",
              "      <td>223.51</td>\n",
              "      <td>84.65</td>\n",
              "      <td>credit card</td>\n",
              "      <td>2017-10-22 18:57:54</td>\n",
              "      <td>2017-10-26 22:19:52</td>\n",
              "      <td>2017-11-09 12:00:00</td>\n",
              "      <td>1.0</td>\n",
              "    </tr>\n",
              "    <tr>\n",
              "      <th>1</th>\n",
              "      <td>1</td>\n",
              "      <td>1</td>\n",
              "      <td>1</td>\n",
              "      <td>1</td>\n",
              "      <td>unknown</td>\n",
              "      <td>RJ</td>\n",
              "      <td>health</td>\n",
              "      <td>170.80</td>\n",
              "      <td>23.79</td>\n",
              "      <td>credit card</td>\n",
              "      <td>2018-06-20 21:40:31</td>\n",
              "      <td>2018-07-03 22:51:22</td>\n",
              "      <td>2018-07-24 12:00:00</td>\n",
              "      <td>4.5</td>\n",
              "    </tr>\n",
              "    <tr>\n",
              "      <th>2</th>\n",
              "      <td>2</td>\n",
              "      <td>2</td>\n",
              "      <td>2</td>\n",
              "      <td>2</td>\n",
              "      <td>unknown</td>\n",
              "      <td>SP</td>\n",
              "      <td>technology</td>\n",
              "      <td>64.40</td>\n",
              "      <td>17.38</td>\n",
              "      <td>credit card</td>\n",
              "      <td>2018-02-16 16:19:31</td>\n",
              "      <td>2018-02-27 01:29:50</td>\n",
              "      <td>2018-03-08 12:00:00</td>\n",
              "      <td>3.5</td>\n",
              "    </tr>\n",
              "    <tr>\n",
              "      <th>3</th>\n",
              "      <td>3</td>\n",
              "      <td>1</td>\n",
              "      <td>3</td>\n",
              "      <td>3</td>\n",
              "      <td>uberlandia</td>\n",
              "      <td>MG</td>\n",
              "      <td>technology</td>\n",
              "      <td>264.50</td>\n",
              "      <td>30.72</td>\n",
              "      <td>credit card</td>\n",
              "      <td>2018-08-18 18:04:29</td>\n",
              "      <td>2018-08-27 20:03:51</td>\n",
              "      <td>2018-09-19 12:00:00</td>\n",
              "      <td>3.0</td>\n",
              "    </tr>\n",
              "    <tr>\n",
              "      <th>4</th>\n",
              "      <td>4</td>\n",
              "      <td>3</td>\n",
              "      <td>4</td>\n",
              "      <td>4</td>\n",
              "      <td>unknown</td>\n",
              "      <td>SP</td>\n",
              "      <td>technology</td>\n",
              "      <td>779.90</td>\n",
              "      <td>30.66</td>\n",
              "      <td>credit card</td>\n",
              "      <td>2017-12-22 16:44:04</td>\n",
              "      <td>2018-01-05 19:22:49</td>\n",
              "      <td>2018-01-18 12:00:00</td>\n",
              "      <td>2.5</td>\n",
              "    </tr>\n",
              "  </tbody>\n",
              "</table>\n",
              "</div>\n",
              "    <div class=\"colab-df-buttons\">\n",
              "\n",
              "  <div class=\"colab-df-container\">\n",
              "    <button class=\"colab-df-convert\" onclick=\"convertToInteractive('df-18a6c6ef-7ecc-479c-9d77-52d6641b56f2')\"\n",
              "            title=\"Convert this dataframe to an interactive table.\"\n",
              "            style=\"display:none;\">\n",
              "\n",
              "  <svg xmlns=\"http://www.w3.org/2000/svg\" height=\"24px\" viewBox=\"0 -960 960 960\">\n",
              "    <path d=\"M120-120v-720h720v720H120Zm60-500h600v-160H180v160Zm220 220h160v-160H400v160Zm0 220h160v-160H400v160ZM180-400h160v-160H180v160Zm440 0h160v-160H620v160ZM180-180h160v-160H180v160Zm440 0h160v-160H620v160Z\"/>\n",
              "  </svg>\n",
              "    </button>\n",
              "\n",
              "  <style>\n",
              "    .colab-df-container {\n",
              "      display:flex;\n",
              "      gap: 12px;\n",
              "    }\n",
              "\n",
              "    .colab-df-convert {\n",
              "      background-color: #E8F0FE;\n",
              "      border: none;\n",
              "      border-radius: 50%;\n",
              "      cursor: pointer;\n",
              "      display: none;\n",
              "      fill: #1967D2;\n",
              "      height: 32px;\n",
              "      padding: 0 0 0 0;\n",
              "      width: 32px;\n",
              "    }\n",
              "\n",
              "    .colab-df-convert:hover {\n",
              "      background-color: #E2EBFA;\n",
              "      box-shadow: 0px 1px 2px rgba(60, 64, 67, 0.3), 0px 1px 3px 1px rgba(60, 64, 67, 0.15);\n",
              "      fill: #174EA6;\n",
              "    }\n",
              "\n",
              "    .colab-df-buttons div {\n",
              "      margin-bottom: 4px;\n",
              "    }\n",
              "\n",
              "    [theme=dark] .colab-df-convert {\n",
              "      background-color: #3B4455;\n",
              "      fill: #D2E3FC;\n",
              "    }\n",
              "\n",
              "    [theme=dark] .colab-df-convert:hover {\n",
              "      background-color: #434B5C;\n",
              "      box-shadow: 0px 1px 3px 1px rgba(0, 0, 0, 0.15);\n",
              "      filter: drop-shadow(0px 1px 2px rgba(0, 0, 0, 0.3));\n",
              "      fill: #FFFFFF;\n",
              "    }\n",
              "  </style>\n",
              "\n",
              "    <script>\n",
              "      const buttonEl =\n",
              "        document.querySelector('#df-18a6c6ef-7ecc-479c-9d77-52d6641b56f2 button.colab-df-convert');\n",
              "      buttonEl.style.display =\n",
              "        google.colab.kernel.accessAllowed ? 'block' : 'none';\n",
              "\n",
              "      async function convertToInteractive(key) {\n",
              "        const element = document.querySelector('#df-18a6c6ef-7ecc-479c-9d77-52d6641b56f2');\n",
              "        const dataTable =\n",
              "          await google.colab.kernel.invokeFunction('convertToInteractive',\n",
              "                                                    [key], {});\n",
              "        if (!dataTable) return;\n",
              "\n",
              "        const docLinkHtml = 'Like what you see? Visit the ' +\n",
              "          '<a target=\"_blank\" href=https://colab.research.google.com/notebooks/data_table.ipynb>data table notebook</a>'\n",
              "          + ' to learn more about interactive tables.';\n",
              "        element.innerHTML = '';\n",
              "        dataTable['output_type'] = 'display_data';\n",
              "        await google.colab.output.renderOutput(dataTable, element);\n",
              "        const docLink = document.createElement('div');\n",
              "        docLink.innerHTML = docLinkHtml;\n",
              "        element.appendChild(docLink);\n",
              "      }\n",
              "    </script>\n",
              "  </div>\n",
              "\n",
              "\n",
              "<div id=\"df-f0e98897-9536-4cf0-9aaa-08562f2a0375\">\n",
              "  <button class=\"colab-df-quickchart\" onclick=\"quickchart('df-f0e98897-9536-4cf0-9aaa-08562f2a0375')\"\n",
              "            title=\"Suggest charts\"\n",
              "            style=\"display:none;\">\n",
              "\n",
              "<svg xmlns=\"http://www.w3.org/2000/svg\" height=\"24px\"viewBox=\"0 0 24 24\"\n",
              "     width=\"24px\">\n",
              "    <g>\n",
              "        <path d=\"M19 3H5c-1.1 0-2 .9-2 2v14c0 1.1.9 2 2 2h14c1.1 0 2-.9 2-2V5c0-1.1-.9-2-2-2zM9 17H7v-7h2v7zm4 0h-2V7h2v10zm4 0h-2v-4h2v4z\"/>\n",
              "    </g>\n",
              "</svg>\n",
              "  </button>\n",
              "\n",
              "<style>\n",
              "  .colab-df-quickchart {\n",
              "      --bg-color: #E8F0FE;\n",
              "      --fill-color: #1967D2;\n",
              "      --hover-bg-color: #E2EBFA;\n",
              "      --hover-fill-color: #174EA6;\n",
              "      --disabled-fill-color: #AAA;\n",
              "      --disabled-bg-color: #DDD;\n",
              "  }\n",
              "\n",
              "  [theme=dark] .colab-df-quickchart {\n",
              "      --bg-color: #3B4455;\n",
              "      --fill-color: #D2E3FC;\n",
              "      --hover-bg-color: #434B5C;\n",
              "      --hover-fill-color: #FFFFFF;\n",
              "      --disabled-bg-color: #3B4455;\n",
              "      --disabled-fill-color: #666;\n",
              "  }\n",
              "\n",
              "  .colab-df-quickchart {\n",
              "    background-color: var(--bg-color);\n",
              "    border: none;\n",
              "    border-radius: 50%;\n",
              "    cursor: pointer;\n",
              "    display: none;\n",
              "    fill: var(--fill-color);\n",
              "    height: 32px;\n",
              "    padding: 0;\n",
              "    width: 32px;\n",
              "  }\n",
              "\n",
              "  .colab-df-quickchart:hover {\n",
              "    background-color: var(--hover-bg-color);\n",
              "    box-shadow: 0 1px 2px rgba(60, 64, 67, 0.3), 0 1px 3px 1px rgba(60, 64, 67, 0.15);\n",
              "    fill: var(--button-hover-fill-color);\n",
              "  }\n",
              "\n",
              "  .colab-df-quickchart-complete:disabled,\n",
              "  .colab-df-quickchart-complete:disabled:hover {\n",
              "    background-color: var(--disabled-bg-color);\n",
              "    fill: var(--disabled-fill-color);\n",
              "    box-shadow: none;\n",
              "  }\n",
              "\n",
              "  .colab-df-spinner {\n",
              "    border: 2px solid var(--fill-color);\n",
              "    border-color: transparent;\n",
              "    border-bottom-color: var(--fill-color);\n",
              "    animation:\n",
              "      spin 1s steps(1) infinite;\n",
              "  }\n",
              "\n",
              "  @keyframes spin {\n",
              "    0% {\n",
              "      border-color: transparent;\n",
              "      border-bottom-color: var(--fill-color);\n",
              "      border-left-color: var(--fill-color);\n",
              "    }\n",
              "    20% {\n",
              "      border-color: transparent;\n",
              "      border-left-color: var(--fill-color);\n",
              "      border-top-color: var(--fill-color);\n",
              "    }\n",
              "    30% {\n",
              "      border-color: transparent;\n",
              "      border-left-color: var(--fill-color);\n",
              "      border-top-color: var(--fill-color);\n",
              "      border-right-color: var(--fill-color);\n",
              "    }\n",
              "    40% {\n",
              "      border-color: transparent;\n",
              "      border-right-color: var(--fill-color);\n",
              "      border-top-color: var(--fill-color);\n",
              "    }\n",
              "    60% {\n",
              "      border-color: transparent;\n",
              "      border-right-color: var(--fill-color);\n",
              "    }\n",
              "    80% {\n",
              "      border-color: transparent;\n",
              "      border-right-color: var(--fill-color);\n",
              "      border-bottom-color: var(--fill-color);\n",
              "    }\n",
              "    90% {\n",
              "      border-color: transparent;\n",
              "      border-bottom-color: var(--fill-color);\n",
              "    }\n",
              "  }\n",
              "</style>\n",
              "\n",
              "  <script>\n",
              "    async function quickchart(key) {\n",
              "      const quickchartButtonEl =\n",
              "        document.querySelector('#' + key + ' button');\n",
              "      quickchartButtonEl.disabled = true;  // To prevent multiple clicks.\n",
              "      quickchartButtonEl.classList.add('colab-df-spinner');\n",
              "      try {\n",
              "        const charts = await google.colab.kernel.invokeFunction(\n",
              "            'suggestCharts', [key], {});\n",
              "      } catch (error) {\n",
              "        console.error('Error during call to suggestCharts:', error);\n",
              "      }\n",
              "      quickchartButtonEl.classList.remove('colab-df-spinner');\n",
              "      quickchartButtonEl.classList.add('colab-df-quickchart-complete');\n",
              "    }\n",
              "    (() => {\n",
              "      let quickchartButtonEl =\n",
              "        document.querySelector('#df-f0e98897-9536-4cf0-9aaa-08562f2a0375 button');\n",
              "      quickchartButtonEl.style.display =\n",
              "        google.colab.kernel.accessAllowed ? 'block' : 'none';\n",
              "    })();\n",
              "  </script>\n",
              "</div>\n",
              "\n",
              "    </div>\n",
              "  </div>\n"
            ],
            "application/vnd.google.colaboratory.intrinsic+json": {
              "type": "dataframe",
              "variable_name": "df",
              "summary": "{\n  \"name\": \"df\",\n  \"rows\": 63606,\n  \"fields\": [\n    {\n      \"column\": \"order\",\n      \"properties\": {\n        \"dtype\": \"number\",\n        \"std\": 18361,\n        \"min\": 0,\n        \"max\": 63605,\n        \"num_unique_values\": 63606,\n        \"samples\": [\n          38548,\n          43917,\n          34350\n        ],\n        \"semantic_type\": \"\",\n        \"description\": \"\"\n      }\n    },\n    {\n      \"column\": \"product\",\n      \"properties\": {\n        \"dtype\": \"number\",\n        \"std\": 4,\n        \"min\": 0,\n        \"max\": 17,\n        \"num_unique_values\": 18,\n        \"samples\": [\n          0,\n          1,\n          8\n        ],\n        \"semantic_type\": \"\",\n        \"description\": \"\"\n      }\n    },\n    {\n      \"column\": \"seller\",\n      \"properties\": {\n        \"dtype\": \"number\",\n        \"std\": 6,\n        \"min\": 0,\n        \"max\": 24,\n        \"num_unique_values\": 25,\n        \"samples\": [\n          8,\n          16,\n          0\n        ],\n        \"semantic_type\": \"\",\n        \"description\": \"\"\n      }\n    },\n    {\n      \"column\": \"customer\",\n      \"properties\": {\n        \"dtype\": \"number\",\n        \"std\": 18361,\n        \"min\": 0,\n        \"max\": 63605,\n        \"num_unique_values\": 63606,\n        \"samples\": [\n          38548,\n          43917,\n          34350\n        ],\n        \"semantic_type\": \"\",\n        \"description\": \"\"\n      }\n    },\n    {\n      \"column\": \"city\",\n      \"properties\": {\n        \"dtype\": \"category\",\n        \"num_unique_values\": 26,\n        \"samples\": [\n          \"rio de janeiro\",\n          \"nova iguacu\",\n          \"unknown\"\n        ],\n        \"semantic_type\": \"\",\n        \"description\": \"\"\n      }\n    },\n    {\n      \"column\": \"state\",\n      \"properties\": {\n        \"dtype\": \"category\",\n        \"num_unique_values\": 5,\n        \"samples\": [\n          \"RJ\",\n          \"PR\",\n          \"MG\"\n        ],\n        \"semantic_type\": \"\",\n        \"description\": \"\"\n      }\n    },\n    {\n      \"column\": \"category\",\n      \"properties\": {\n        \"dtype\": \"category\",\n        \"num_unique_values\": 5,\n        \"samples\": [\n          \"technology\",\n          \"sports\",\n          \"fashion\"\n        ],\n        \"semantic_type\": \"\",\n        \"description\": \"\"\n      }\n    },\n    {\n      \"column\": \"price\",\n      \"properties\": {\n        \"dtype\": \"number\",\n        \"std\": 557.3647213923335,\n        \"min\": 0.85,\n        \"max\": 6735.0,\n        \"num_unique_values\": 4433,\n        \"samples\": [\n          172.01,\n          949.99,\n          169.9\n        ],\n        \"semantic_type\": \"\",\n        \"description\": \"\"\n      }\n    },\n    {\n      \"column\": \"shipping\",\n      \"properties\": {\n        \"dtype\": \"number\",\n        \"std\": 37.75098342584937,\n        \"min\": 0.0,\n        \"max\": 409.68,\n        \"num_unique_values\": 4849,\n        \"samples\": [\n          70.14,\n          6.64,\n          29.23\n        ],\n        \"semantic_type\": \"\",\n        \"description\": \"\"\n      }\n    },\n    {\n      \"column\": \"payment\",\n      \"properties\": {\n        \"dtype\": \"category\",\n        \"num_unique_values\": 2,\n        \"samples\": [\n          \"other\",\n          \"credit card\"\n        ],\n        \"semantic_type\": \"\",\n        \"description\": \"\"\n      }\n    },\n    {\n      \"column\": \"purchased\",\n      \"properties\": {\n        \"dtype\": \"date\",\n        \"min\": \"2016-10-03 09:44:50\",\n        \"max\": \"2018-08-29 14:52:00\",\n        \"num_unique_values\": 53475,\n        \"samples\": [\n          \"2017-09-17 21:03:28\",\n          \"2018-05-05 14:20:42\"\n        ],\n        \"semantic_type\": \"\",\n        \"description\": \"\"\n      }\n    },\n    {\n      \"column\": \"delivered\",\n      \"properties\": {\n        \"dtype\": \"date\",\n        \"min\": \"2016-10-11 14:46:49\",\n        \"max\": \"2018-10-02 00:18:50\",\n        \"num_unique_values\": 53496,\n        \"samples\": [\n          \"2018-04-11 23:12:18\",\n          \"2017-09-12 22:30:03\"\n        ],\n        \"semantic_type\": \"\",\n        \"description\": \"\"\n      }\n    },\n    {\n      \"column\": \"estimated_delivery\",\n      \"properties\": {\n        \"dtype\": \"date\",\n        \"min\": \"2016-10-27 12:00:00\",\n        \"max\": \"2018-10-25 12:00:00\",\n        \"num_unique_values\": 433,\n        \"samples\": [\n          \"2017-02-07 12:00:00\",\n          \"2017-04-24 12:00:00\"\n        ],\n        \"semantic_type\": \"\",\n        \"description\": \"\"\n      }\n    },\n    {\n      \"column\": \"rating\",\n      \"properties\": {\n        \"dtype\": \"number\",\n        \"std\": 1.3891909077203957,\n        \"min\": 1.0,\n        \"max\": 5.0,\n        \"num_unique_values\": 9,\n        \"samples\": [\n          5.0,\n          4.5\n        ],\n        \"semantic_type\": \"\",\n        \"description\": \"\"\n      }\n    }\n  ]\n}"
            }
          },
          "metadata": {},
          "execution_count": 6
        }
      ],
      "source": [
        "# ¡No modificar! Esta celda se encarga de cargar los datos.\n",
        "df = pd.read_csv(DATA_PATH)\n",
        "df.purchased = pd.to_datetime(df.purchased)\n",
        "df.delivered = pd.to_datetime(df.delivered)\n",
        "df.estimated_delivery = pd.to_datetime(df.estimated_delivery)\n",
        "print(f'{df.shape[0]} rows x {df.shape[1]} columns')\n",
        "df.head(5)"
      ]
    },
    {
      "cell_type": "code",
      "execution_count": 7,
      "metadata": {
        "id": "hO8daI3Yf9Y0",
        "outputId": "685f4cd3-2227-449c-a6fd-a1e9e826927d",
        "colab": {
          "base_uri": "https://localhost:8080/"
        }
      },
      "outputs": [
        {
          "output_type": "stream",
          "name": "stdout",
          "text": [
            "order: 63606 unique values\n",
            "product: 18 unique values\n",
            "seller: 25 unique values\n",
            "customer: 63606 unique values\n",
            "city: 26 unique values\n",
            "state: 5 unique values\n",
            "category: 5 unique values\n",
            "price: 4433 unique values\n",
            "shipping: 4849 unique values\n",
            "payment: 2 unique values\n",
            "purchased: 53475 unique values\n",
            "delivered: 53496 unique values\n",
            "estimated_delivery: 433 unique values\n",
            "rating: 9 unique values\n"
          ]
        }
      ],
      "source": [
        "# ¿Cuántos valores únicos hay en cada columna?\n",
        "for col in df.columns:\n",
        "    print(f'{col}: {df[col].nunique()} unique values')"
      ]
    },
    {
      "cell_type": "markdown",
      "metadata": {
        "id": "kg3m6vn1f9Y1"
      },
      "source": [
        "# 1. El equipo necesita extraer la máxima información de los datos. ¿Cómo modificarías la base de datos para ser usada con modelos de ML?\n",
        "\n",
        "⁉️ **Consideración:** La última celda de esta sección es la de cálculo de `rating_class`, mantener el orden. Agregar las celdas para modificar\n",
        "los datos, antes de esta. No olvides modificar el código para calcular la clase de rating.\n",
        "\n",
        "ℹ️ **HINT:** Utiliza una celda para cada columna. ¿Qué columnas no sirven? ¿Qué columnas necesito que sean números? ¿Nuevas columnas?\n",
        "\n",
        "📖 **Referencia Externa:** [Feature Engineering](https://www.freecodecamp.org/news/feature-engineering-techniques-for-structured-data/).\n",
        "\n",
        "---\n",
        "\n",
        "✅ **Explicación:**\n",
        "\n",
        "[ AGREGA TU RESPUESTA ACÁ ]"
      ]
    },
    {
      "cell_type": "code",
      "source": [
        "#df.value_counts('city', normalize=True).head(5) unknown,sao paulo, rio de janeiro\n",
        "#df.value_counts('state', normalize=True).head(5) SP, RJ, MG\n",
        "#df.value_counts('category', normalize=True)  fashion, technology, toys, health, beauty\n",
        "#df.value_counts('payment', normalize=True).head(5) credit card, other"
      ],
      "metadata": {
        "id": "ZcWi8uLPtRuC",
        "outputId": "35da7a28-6312-4f19-8c32-339cf714e80f",
        "colab": {
          "base_uri": "https://localhost:8080/",
          "height": 272
        }
      },
      "execution_count": 33,
      "outputs": [
        {
          "output_type": "execute_result",
          "data": {
            "text/plain": [
              "product\n",
              "0    0.099409\n",
              "9    0.098497\n",
              "1    0.097931\n",
              "6    0.084913\n",
              "4    0.084882\n",
              "Name: proportion, dtype: float64"
            ],
            "text/html": [
              "<div>\n",
              "<style scoped>\n",
              "    .dataframe tbody tr th:only-of-type {\n",
              "        vertical-align: middle;\n",
              "    }\n",
              "\n",
              "    .dataframe tbody tr th {\n",
              "        vertical-align: top;\n",
              "    }\n",
              "\n",
              "    .dataframe thead th {\n",
              "        text-align: right;\n",
              "    }\n",
              "</style>\n",
              "<table border=\"1\" class=\"dataframe\">\n",
              "  <thead>\n",
              "    <tr style=\"text-align: right;\">\n",
              "      <th></th>\n",
              "      <th>proportion</th>\n",
              "    </tr>\n",
              "    <tr>\n",
              "      <th>product</th>\n",
              "      <th></th>\n",
              "    </tr>\n",
              "  </thead>\n",
              "  <tbody>\n",
              "    <tr>\n",
              "      <th>0</th>\n",
              "      <td>0.099409</td>\n",
              "    </tr>\n",
              "    <tr>\n",
              "      <th>9</th>\n",
              "      <td>0.098497</td>\n",
              "    </tr>\n",
              "    <tr>\n",
              "      <th>1</th>\n",
              "      <td>0.097931</td>\n",
              "    </tr>\n",
              "    <tr>\n",
              "      <th>6</th>\n",
              "      <td>0.084913</td>\n",
              "    </tr>\n",
              "    <tr>\n",
              "      <th>4</th>\n",
              "      <td>0.084882</td>\n",
              "    </tr>\n",
              "  </tbody>\n",
              "</table>\n",
              "</div><br><label><b>dtype:</b> float64</label>"
            ]
          },
          "metadata": {},
          "execution_count": 33
        }
      ]
    },
    {
      "cell_type": "code",
      "execution_count": 1,
      "metadata": {
        "id": "sIN0r3bZf9Y1",
        "outputId": "90c27dc4-9dc2-46cb-9669-57a7b2805e46",
        "colab": {
          "base_uri": "https://localhost:8080/",
          "height": 181
        }
      },
      "outputs": [
        {
          "output_type": "error",
          "ename": "NameError",
          "evalue": "name 'df' is not defined",
          "traceback": [
            "\u001b[0;31m---------------------------------------------------------------------------\u001b[0m",
            "\u001b[0;31mNameError\u001b[0m                                 Traceback (most recent call last)",
            "\u001b[0;32m<ipython-input-1-52bf30954d95>\u001b[0m in \u001b[0;36m<cell line: 2>\u001b[0;34m()\u001b[0m\n\u001b[1;32m      1\u001b[0m \u001b[0;31m# [ COLUMNAS PARA CITY Y STATE]\u001b[0m\u001b[0;34m\u001b[0m\u001b[0;34m\u001b[0m\u001b[0m\n\u001b[0;32m----> 2\u001b[0;31m \u001b[0mtop_cities\u001b[0m \u001b[0;34m=\u001b[0m \u001b[0mdf\u001b[0m\u001b[0;34m[\u001b[0m\u001b[0;34m'city'\u001b[0m\u001b[0;34m]\u001b[0m\u001b[0;34m.\u001b[0m\u001b[0mvalue_counts\u001b[0m\u001b[0;34m(\u001b[0m\u001b[0;34m)\u001b[0m\u001b[0;34m.\u001b[0m\u001b[0mhead\u001b[0m\u001b[0;34m(\u001b[0m\u001b[0;36m3\u001b[0m\u001b[0;34m)\u001b[0m\u001b[0;34m.\u001b[0m\u001b[0mindex\u001b[0m\u001b[0;34m.\u001b[0m\u001b[0mto_list\u001b[0m\u001b[0;34m(\u001b[0m\u001b[0;34m)\u001b[0m\u001b[0;34m\u001b[0m\u001b[0;34m\u001b[0m\u001b[0m\n\u001b[0m\u001b[1;32m      3\u001b[0m \u001b[0;31m#df['is_top_product'] = df['product'].isin(top_products).astype(int)\u001b[0m\u001b[0;34m\u001b[0m\u001b[0;34m\u001b[0m\u001b[0m\n",
            "\u001b[0;31mNameError\u001b[0m: name 'df' is not defined"
          ]
        }
      ],
      "source": [
        "# [ COLUMNAS PARA CITY Y STATE]\n",
        "top_cities = df['city'].value_counts().head(3).index.to_list()\n",
        "#df['is_top_product'] = df['product'].isin(top_products).astype(int)"
      ]
    },
    {
      "cell_type": "code",
      "execution_count": null,
      "metadata": {
        "id": "4R9HdT6Df9Y1"
      },
      "outputs": [],
      "source": [
        "# [ AGREGA TU CÓDIGO AQUÍ ] ¿Necesitas agregar más celdas? Adelante."
      ]
    },
    {
      "cell_type": "code",
      "execution_count": null,
      "metadata": {
        "id": "-Dq970B9f9Y1"
      },
      "outputs": [],
      "source": [
        "# [ AGREGA TU CÓDIGO AQUÍ ] ¿Necesitas agregar más celdas? Adelante. RATING_CLASS"
      ]
    },
    {
      "cell_type": "markdown",
      "metadata": {
        "id": "9OWvnJvbf9Y1"
      },
      "source": [
        "Debido a que estaremos realizando clasificación, pasaremos `rating`de numérico a categórico. Deberás modificar `RATING_BINS`\n",
        "y `RATING_LABELS` para seleccionar cómo realizar el *binning* de esta clase.\n",
        "\n",
        "**Ejemplo:**\n",
        "```python\n",
        "    RATING_BINS = [0, 2, 3.5, 5]\n",
        "    RATING_LABELS = ['low', 'medium', 'high']\n",
        "```"
      ]
    },
    {
      "cell_type": "code",
      "execution_count": null,
      "metadata": {
        "id": "3AdLRBcqf9Y2"
      },
      "outputs": [],
      "source": [
        "# Modifica RATING_BINS y RATING_LABELS según consideres.\n",
        "RATING_BINS = []\n",
        "RATING_LABELS = []\n",
        "\n",
        "################################################################################\n",
        "\n",
        "# ¡No modificar! Este código se encarga de crear la columna rating_class.\n",
        "df['rating_class'] = pd.cut(df['rating'], bins=RATING_BINS, labels=RATING_LABELS, include_lowest=True)\n",
        "df.value_counts(['rating', 'rating_class'], normalize=True, sort=False, dropna=False)"
      ]
    },
    {
      "cell_type": "markdown",
      "metadata": {
        "id": "C2sZI4Cif9Y2"
      },
      "source": [
        "**¡Ten cuidado!** Debes intentar que tus `rating_class` no sean demasiado imbalancedas. Por ejemplo, que el 90% de los datos\n",
        "sean *low*, 5% *medium* y 5% *high*. Es preferible algo como: 40% *low*, 30% *medium* y 30% *high*."
      ]
    },
    {
      "cell_type": "code",
      "execution_count": null,
      "metadata": {
        "id": "elPcsD4bf9Y2"
      },
      "outputs": [],
      "source": [
        "# ¡No modificar!\n",
        "df.value_counts('rating_class', normalize=True, sort=False, dropna=False)"
      ]
    },
    {
      "cell_type": "markdown",
      "metadata": {
        "id": "JeHpVOk4f9Y2"
      },
      "source": [
        "# 2. ¡Wow! Gran *feature engineering*. Toca armar tu set para entrenar el modelo. ¿Podrías generar gráficas para el equipo de Customer Experience que expliquen mejor los datos nuevos? ¡No olvides explicarlas!\n",
        "\n",
        "⁉️ **Consideración:** Modifica la lista de columnas a eliminar para el *train*. Debes de hacer por lo menos dos gráficos.\n",
        "\n",
        "ℹ️ **HINT 1:** ¿Por qué tus gráficas aportan al equipo de Customer Experience? ¡Explica tus nuevas columnas! ¿No tienes? 😓\n",
        "\n",
        "ℹ️ **HINT 2:** Un buen gráfico tiene título, *labels*, leyenda... ¡y mucho más!\n",
        "\n",
        "📖 **Referencia Externa:** [Tutorial de Seaborn](https://www.datacamp.com/tutorial/seaborn-python-tutorial).\n",
        "\n",
        "---\n",
        "\n",
        "✅ **Explicación:**\n",
        "\n",
        "- **Gráfico 1:** [ AGREGA TU EXPLICACIÓN ACÁ ]\n",
        "\n",
        "- **Gráfico 2:** [ AGREGA TU EXPLICACIÓN ACÁ ]"
      ]
    },
    {
      "cell_type": "code",
      "execution_count": null,
      "metadata": {
        "id": "rcTOM6LCf9Y2"
      },
      "outputs": [],
      "source": [
        "# Gráfico 1: [ TÍTULO DEL GRÁFICO ]\n",
        "\n",
        "########################################################################################################################\n",
        "\n",
        "# [ AGREGA TU CÓDIGO AQUÍ ]"
      ]
    },
    {
      "cell_type": "code",
      "execution_count": null,
      "metadata": {
        "id": "gtCojqHJf9Y2"
      },
      "outputs": [],
      "source": [
        "# Gráfico 2: [ TÍTULO DEL GRÁFICO ]\n",
        "\n",
        "########################################################################################################################\n",
        "\n",
        "# [ AGREGA TU CÓDIGO AQUÍ ]"
      ]
    },
    {
      "cell_type": "code",
      "execution_count": null,
      "metadata": {
        "id": "EyqBj8a7f9Y3"
      },
      "outputs": [],
      "source": [
        "# Modifica la lista de columnas a eliminar según consideres.\n",
        "\n",
        "x = df.drop(\n",
        "    columns=[\n",
        "        # Agrega las columnas que consideres\n",
        "        # [ AGREGA TU CÓDIGO AQUÍ ]\n",
        "        'rating', 'rating_class'\n",
        "    ]\n",
        ")\n",
        "\n",
        "########################################################################################################################\n",
        "\n",
        "# ¡No modificar! Esta celda se encarga de dividir los datos en conjuntos de entrenamiento, validación y prueba.\n",
        "\n",
        "y = df['rating_class']\n",
        "\n",
        "x_train_val, x_test, y_train_val, y_test = train_test_split(x, y, test_size=0.2, shuffle=True, random_state=RANDOM_STATE)\n",
        "x_train, x_val, y_train, y_val = train_test_split(x_train_val, y_train_val, test_size=0.2, shuffle=True, random_state=RANDOM_STATE)\n",
        "\n",
        "print(f'Train: {x_train.shape[0]} rows')\n",
        "print(f'Validation: {x_val.shape[0]} rows')\n",
        "print(f'Test: {x_test.shape[0]} rows')\n",
        "\n",
        "display(x_train.head(5))"
      ]
    },
    {
      "cell_type": "markdown",
      "metadata": {
        "id": "7sW0HLtgf9Y3"
      },
      "source": [
        "# 3. Dicen que se pueden encontrar patrones en tus datos de entrenamiento. ¿Qué patrones encuentras en los pedidos? ¿Cómo pueden ser de utilidad para mejorar las ventas de AMAZOFF?\n",
        "\n",
        "⁉️ **Consideración:** Utiliza reglas de asociación para encontrar reglas útiles para nuevas estrategias de venta. Explica los parámetros y métricas de tu modelo.\n",
        "\n",
        "ℹ️ **HINT 1:** ¿Qué librería se importó en el inicio? Cuidado, ¡solo datos binarios!\n",
        "\n",
        "ℹ️ **HINT 2:** De las principales reglas encontradas... ¿cómo implementarías una estrategia de venta/marketing utilizando esta información?\n",
        "\n",
        "📖 **Referencia Externa:** [Documentación de mlxtend](https://rasbt.github.io/mlxtend/user_guide/frequent_patterns/apriori/).\n",
        "\n",
        "---\n",
        "\n",
        "✅ **Explicación:**\n",
        "\n",
        "[ AGREGA TU EXPLICACIÓN ACÁ ]"
      ]
    },
    {
      "cell_type": "code",
      "execution_count": null,
      "metadata": {
        "id": "GdWOhMkYf9Y3"
      },
      "outputs": [],
      "source": [
        "binary_x_train = x_train.drop(\n",
        "    columns=[\n",
        "        # Agrega las columnas que consideres\n",
        "        # [ AGREGA TU CÓDIGO AQUÍ ]\n",
        "    ]\n",
        ").astype(bool)\n",
        "\n",
        "frequent_itemsets = # [ AGREGA TU CÓDIGO AQUÍ ]\n",
        "frequent_itemsets"
      ]
    },
    {
      "cell_type": "code",
      "execution_count": null,
      "metadata": {
        "id": "yU2IoS6sf9Y3"
      },
      "outputs": [],
      "source": [
        "rules = # [ AGREGA TU CÓDIGO AQUÍ ]\n",
        "rules"
      ]
    },
    {
      "cell_type": "markdown",
      "metadata": {
        "id": "Z9oU8xP3f9Y3"
      },
      "source": [
        "# 4. ¡Viva el ML! Toca predecir la satisfacción del cliente. ¿Es posible predecir bien el `rating_class`?\n",
        "\n",
        "⁉️ **Consideraciones:**\n",
        "\n",
        "- Elige tres sets de hiperparámetros **diferentes** para los tres modelos de clasificación de *Random Forest*.\n",
        "- Debes modificar al menos 4 hiperparámetros. No cuentes `random_state`ni `n_jobs`.\n",
        "- Tus sets de hiperparámetros deben pasar la prueba de *overfitting* y *underfitting*.\n",
        "- Utiliza los resultados de la validación para elegir tus hiperparámetros, no los del testeo.\n",
        "- No olvides interpretar tus resultados e intenta relacionarlos a los intereses de **AMAZOFF** si es posible.\n",
        "\n",
        "ℹ️ **HINT:** El ML es un proceso iterativo, a veces si es que no funcionan bien tus resultados debes de volver a empezar.\n",
        "\n",
        "📖 **Referencia Externa:** [RandomForestClassifier](https://scikit-learn.org/stable/modules/generated/sklearn.ensemble.RandomForestClassifier.html).\n",
        "\n",
        "---\n",
        "\n",
        "✅ **Explicación:**\n",
        "\n",
        "- **Justifica tus hiperpámetros:** [ AGREGA TU EXPLICACIÓN ACÁ ]\n",
        "- **¿Hay *overfitting* o *underfitting*:** [ AGREGA TU EXPLICACIÓN ACÁ ]\n",
        "- **Resultados de Validación:** [ AGREGA TU EXPLICACIÓN ACÁ ]\n",
        "- **Resultados de Testeo:** [ AGREGA TU EXPLICACIÓN ACÁ ]\n",
        "- **¿Es posible predecir bien el `rating_class`:** [ AGREGA TU EXPLICACIÓN ACÁ ]"
      ]
    },
    {
      "cell_type": "code",
      "execution_count": null,
      "metadata": {
        "id": "VFoPBDGwf9Y3"
      },
      "outputs": [],
      "source": [
        "%%time\n",
        "\n",
        "# Debes de modificar al menos 4 parámetros, sin contar random_state y n_jobs.\n",
        "\n",
        "rf1 = RandomForestClassifier(\n",
        "    # [ AGREGA TU CÓDIGO AQUÍ ]\n",
        "    random_state=RANDOM_STATE,\n",
        "    n_jobs=-1\n",
        ")\n",
        "\n",
        "rf1.fit(x_train, y_train)"
      ]
    },
    {
      "cell_type": "code",
      "execution_count": null,
      "metadata": {
        "id": "74ml68N4f9Y3"
      },
      "outputs": [],
      "source": [
        "%%time\n",
        "\n",
        "# Debes de modificar al menos 4 parámetros, sin contar random_state y n_jobs.\n",
        "\n",
        "rf2 = RandomForestClassifier(\n",
        "    # [ AGREGA TU CÓDIGO AQUÍ ]\n",
        "    random_state=RANDOM_STATE,\n",
        "    n_jobs=-1\n",
        ")\n",
        "\n",
        "rf2.fit(x_train, y_train)"
      ]
    },
    {
      "cell_type": "code",
      "execution_count": null,
      "metadata": {
        "id": "n1iQ-wqwf9Y3"
      },
      "outputs": [],
      "source": [
        "%%time\n",
        "\n",
        "# Debes de modificar al menos 4 parámetros, sin contar random_state y n_jobs.\n",
        "\n",
        "rf3 = RandomForestClassifier(\n",
        "    # [ AGREGA TU CÓDIGO AQUÍ ]\n",
        "    random_state=RANDOM_STATE,\n",
        "    n_jobs=-1\n",
        ")\n",
        "\n",
        "rf3.fit(x_train, y_train)"
      ]
    },
    {
      "cell_type": "code",
      "execution_count": null,
      "metadata": {
        "id": "Apo9xUGLf9Y4"
      },
      "outputs": [],
      "source": [
        "# ¡No modificar! Esta celda se encarga de evaluar los modelos y mostrar los resultados.\n",
        "\n",
        "y_val_pred1 = rf1.predict(x_val)\n",
        "y_val_pred2 = rf2.predict(x_val)\n",
        "y_val_pred3 = rf3.predict(x_val)\n",
        "\n",
        "print('[Random Forest] Check Overfitting with Accuracy')\n",
        "print(f'RF1: train={accuracy_score(y_train, rf1.predict(x_train)):.4f} val={accuracy_score(y_val, y_val_pred1):.4f}')\n",
        "print(f'RF2: train={accuracy_score(y_train, rf2.predict(x_train)):.4f} val={accuracy_score(y_val, y_val_pred2):.4f}')\n",
        "print(f'RF3: train={accuracy_score(y_train, rf3.predict(x_train)):.4f} val={accuracy_score(y_val, y_val_pred3):.4f}')"
      ]
    },
    {
      "cell_type": "code",
      "execution_count": null,
      "metadata": {
        "id": "spW6qVm2f9Y4"
      },
      "outputs": [],
      "source": [
        "# ¡No modificar! Esta celda se encarga de mostrar los resultados en el set de validación.\n",
        "\n",
        "print('[Random Forest] Validation Classification Report')\n",
        "print('#'*80)\n",
        "print('RF1')\n",
        "print(classification_report(y_val, y_val_pred1))\n",
        "print('#'*80)\n",
        "print('RF2')\n",
        "print(classification_report(y_val, y_val_pred2))\n",
        "print('#'*80)\n",
        "print('RF3')\n",
        "print(classification_report(y_val, y_val_pred3))"
      ]
    },
    {
      "cell_type": "code",
      "execution_count": null,
      "metadata": {
        "id": "NOJPe9Kgf9Y4"
      },
      "outputs": [],
      "source": [
        "# ¡Completa el código! Esta celda se encarga de evaluar los modelos en el set de testeo y mostrar los resultados.\n",
        "\n",
        "y_pred_rf1 = # [ AGREGA TU CÓDIGO AQUÍ ]\n",
        "y_pred_rf2 = # [ AGREGA TU CÓDIGO AQUÍ ]\n",
        "y_pred_rf3 = # [ AGREGA TU CÓDIGO AQUÍ ]\n",
        "\n",
        "print('[Random Forest] Test Classification Report')\n",
        "print('#'*80)\n",
        "print('RF1')\n",
        "# [ AGREGA TU CÓDIGO AQUÍ ])\n",
        "print('#'*80)\n",
        "print('RF2')\n",
        "# [ AGREGA TU CÓDIGO AQUÍ ])\n",
        "print('#'*80)\n",
        "print('RF3')\n",
        "# [ AGREGA TU CÓDIGO AQUÍ ])"
      ]
    },
    {
      "cell_type": "markdown",
      "metadata": {
        "id": "0t3kVJ6Bf9Y4"
      },
      "source": [
        "# 5. El equipo de Customer Experience dice que un solo modelo no es suficiente. ¿Podrías implementar otro?\n",
        "\n",
        "⁉️ **Consideración:** Utiliza otro modelo visto en clase, como *KNN* y repite todos los pasos de la pregunta 4. No utilices *Random Forest*.\n",
        "\n",
        "ℹ️ **HINT 1:** No olvides elegir 3 set de hiperparámetros y analizar los resultados de validación y testeo.\n",
        "\n",
        "ℹ️ **HINT 2:** Si utilizas un modelo no visto en clases, debes de explicar su funcionamiento para utilizarlo.\n",
        "\n",
        "📖 **Referencia Externa:** [KNN](https://scikit-learn.org/stable/modules/generated/sklearn.neighbors.KNeighborsClassifier.html).\n",
        "\n",
        "---\n",
        "\n",
        "✅ **Explicación:**\n",
        "\n",
        "- **Justifica tus hiperpámetros:** [ AGREGA TU EXPLICACIÓN ACÁ ]\n",
        "- **¿Hay *overfitting* o *underfitting*:** [ AGREGA TU EXPLICACIÓN ACÁ ]\n",
        "- **Resultados de Validación:** [ AGREGA TU EXPLICACIÓN ACÁ ]\n",
        "- **Resultados de Testeo:** [ AGREGA TU EXPLICACIÓN ACÁ ]\n",
        "- **¿Es posible predecir bien el `rating_class`:** [ AGREGA TU EXPLICACIÓN ACÁ ]"
      ]
    },
    {
      "cell_type": "code",
      "execution_count": null,
      "metadata": {
        "id": "r07SvFKOf9Y4"
      },
      "outputs": [],
      "source": [
        "# Si usas un modelo no visto en clase: Descomenta e importa tu nuevo modelo de clasificación aquí.\n",
        "# ¡No olvides agregar a tu explicación cómo funciona el modelo no visto en clase!\n",
        "\n",
        "# from sklearn."
      ]
    },
    {
      "cell_type": "code",
      "execution_count": null,
      "metadata": {
        "id": "hbn9pEURf9Y4"
      },
      "outputs": [],
      "source": [
        "# Instancia tu modelo 1 aquí.\n",
        "\n",
        "# [ AGREGA TU CÓDIGO AQUÍ ]"
      ]
    },
    {
      "cell_type": "code",
      "execution_count": null,
      "metadata": {
        "id": "a3vmsGVzf9Y4"
      },
      "outputs": [],
      "source": [
        "# Instancia tu modelo 2 aquí.\n",
        "\n",
        "# [ AGREGA TU CÓDIGO AQUÍ ]"
      ]
    },
    {
      "cell_type": "code",
      "execution_count": null,
      "metadata": {
        "id": "rWLRtwYKf9Y4"
      },
      "outputs": [],
      "source": [
        "# Instancia tu modelo 3 aquí.\n",
        "\n",
        "# [ AGREGA TU CÓDIGO AQUÍ ]"
      ]
    },
    {
      "cell_type": "code",
      "execution_count": null,
      "metadata": {
        "id": "B6xHVc9Vf9Y5"
      },
      "outputs": [],
      "source": [
        "# Revisa si hay overfitting (resultado de entrenamiento muy superior al de validación).\n",
        "# Utiliza: `accuracy_score`.\n",
        "\n",
        "# [ AGREGA TU CÓDIGO AQUÍ ]"
      ]
    },
    {
      "cell_type": "code",
      "execution_count": null,
      "metadata": {
        "id": "L9w9fQSLf9Y5"
      },
      "outputs": [],
      "source": [
        "# Imprime los resultados de tus modelos en el set de validación (classification_report).\n",
        "\n",
        "# [ AGREGA TU CÓDIGO AQUÍ ]"
      ]
    },
    {
      "cell_type": "code",
      "execution_count": null,
      "metadata": {
        "id": "SIg-swsLf9Y5"
      },
      "outputs": [],
      "source": [
        "# Imprime los resultados de tus modelos en el set de testeo (classification_report).\n",
        "\n",
        "# [ AGREGA TU CÓDIGO AQUÍ ]"
      ]
    },
    {
      "cell_type": "markdown",
      "metadata": {
        "id": "GzI2EZ8Bf9Y5"
      },
      "source": [
        "# 6. ¡Dos modelos! Eso es genial. ¿Qué modelo funcionó peor? ¿Si utilizas PCA podría mejor?\n",
        "\n",
        "⁉️ **Consideración:** Elige la combinación de modelo e hiperparámetros que peor se desempeño entre las preguntas 4 y 5. Aplica PCA con un número de componentes adecuado y corre los resultados otra vez.\n",
        "\n",
        "ℹ️ **HINT:** ¿Cómo se elige el número de componentes? ¿Y ese gráfico para qué sirve?\n",
        "\n",
        "📖 **Referencia Externa:** [PCA](https://www.baeldung.com/cs/pca).\n",
        "\n",
        "---\n",
        "\n",
        "✅ **Explicación:**\n",
        "\n",
        "- **¿Por qué elegiste ese número de componentes?** [ AGREGA TU EXPLICACIÓN ACÁ ]\n",
        "- **Resultados de Validación:** [ AGREGA TU EXPLICACIÓN ACÁ ]\n",
        "- **Resultados de Testeo:** [ AGREGA TU EXPLICACIÓN ACÁ ]\n",
        "- **¿Mejoraron los resultados al usar PCA? ¿Por qué?** [ AGREGA TU EXPLICACIÓN ACÁ ]"
      ]
    },
    {
      "cell_type": "code",
      "execution_count": null,
      "metadata": {
        "id": "AIPtvVwjf9Y8"
      },
      "outputs": [],
      "source": [
        "# ¡No modificar! Gráfico de Varianza Explicada por Número de Componentes\n",
        "\n",
        "explained_variance = []\n",
        "for i in range(1, 8):\n",
        "    pca = PCA(n_components=i)\n",
        "    pca.fit(x_train)\n",
        "    explained_variance.append(pca.explained_variance_ratio_.sum())\n",
        "\n",
        "plt.plot(range(1, 8), explained_variance, marker='o')\n",
        "plt.xlabel('Number of Components')\n",
        "plt.ylabel('Explained Variance')\n",
        "plt.title('PCA Explained Variance')\n",
        "plt.show()"
      ]
    },
    {
      "cell_type": "code",
      "execution_count": null,
      "metadata": {
        "id": "vK27eIaNf9Y8"
      },
      "outputs": [],
      "source": [
        "# Elige el número de componentes que consideres adecuado.\n",
        "\n",
        "pca = PCA(# [ AGREGA TU CÓDIGO AQUÍ ])\n",
        "\n",
        "########################################################################################################################\n",
        "\n",
        "# ¡No modificar! Esta celda se encarga de transformar los datos con PCA.\n",
        "\n",
        "pca.fit(x_train)\n",
        "\n",
        "x_train_pca = pca.transform(x_train)\n",
        "x_val_pca = pca.transform(x_val)\n",
        "x_test_pca = pca.transform(x_test)"
      ]
    },
    {
      "cell_type": "code",
      "execution_count": null,
      "metadata": {
        "id": "DWV4hzdDf9Y8"
      },
      "outputs": [],
      "source": [
        "# Elige el modelo que deseas utilizar. Selecciona los hiperparámetros que consideres. ¿Elegiste la peor combinación anterior?\n",
        "#     Ejemplo 1: model = RandomForestClassifier(n_estimators=100, random_state=RANDOM_STATE).\n",
        "#     Ejemplo 2: model = KNeighborsClassifier(n_neighbors=10).\n",
        "\n",
        "model = # [ AGREGA TU CÓDIGO AQUÍ ]\n",
        "\n",
        "########################################################################################################################\n",
        "\n",
        "# ¡No modificar! Este código se encarga de entrenar el modelo y mostrar los resultados en el set de validación.\n",
        "\n",
        "model.fit(x_train_pca, y_train)\n",
        "\n",
        "y_val_pca_pred = model.predict(x_val_pca)\n",
        "\n",
        "print(f'[{model.__class__.__name__}] Validation Classification Report')\n",
        "print(classification_report(y_val, y_val_pca_pred))"
      ]
    },
    {
      "cell_type": "code",
      "execution_count": null,
      "metadata": {
        "id": "_XLs0WONf9Y8"
      },
      "outputs": [],
      "source": [
        "# ¡No modificar! Esta celda se encarga de mostrar los resultados en el set de test.\n",
        "\n",
        "y_test_pca_pred = model.predict(x_test_pca)\n",
        "\n",
        "print(f'[{model.__class__.__name__}] Test Classification Report')\n",
        "print(classification_report(y_test, y_test_pca_pred))"
      ]
    },
    {
      "cell_type": "markdown",
      "metadata": {
        "id": "ocZURLoof9Y8"
      },
      "source": [
        "> # ¡NO OLVIDES GUARDAR Y SUBIR EL NOTEBOOK A LA PLATAFORMA CUANDO TERMINES! FORMATO .ipynb"
      ]
    }
  ],
  "metadata": {
    "kernelspec": {
      "display_name": "myenv",
      "language": "python",
      "name": "myenv"
    },
    "language_info": {
      "codemirror_mode": {
        "name": "ipython",
        "version": 3
      },
      "file_extension": ".py",
      "mimetype": "text/x-python",
      "name": "python",
      "nbconvert_exporter": "python",
      "pygments_lexer": "ipython3",
      "version": "3.12.3"
    },
    "colab": {
      "provenance": [],
      "include_colab_link": true
    }
  },
  "nbformat": 4,
  "nbformat_minor": 0
}