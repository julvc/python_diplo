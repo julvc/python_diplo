{
  "cells": [
    {
      "cell_type": "markdown",
      "metadata": {
        "id": "view-in-github",
        "colab_type": "text"
      },
      "source": [
        "<a href=\"https://colab.research.google.com/github/julvc/python_diplo/blob/master/MP2.ipynb\" target=\"_parent\"><img src=\"https://colab.research.google.com/assets/colab-badge.svg\" alt=\"Open In Colab\"/></a>"
      ]
    },
    {
      "cell_type": "markdown",
      "metadata": {
        "id": "uyivns01f9Yy"
      },
      "source": [
        "# Miniproyecto 2: Machine Learning con Valor\n",
        "#### **Curso:** Introducción a Minería de Datos y Machine Learning\n",
        "\n",
        "---\n",
        "\n",
        "**¡Felicidades por tu excelente trabajo en el MP1!**\n",
        "\n",
        "Tu labor en el preprocesamiento de la base de datos ha causado un gran impacto en **AMAZOFF**.\n",
        "\n",
        "El equipo de Customer Experience ha quedado impresionado con tu habilidad para transformar datos sucios en información\n",
        "útil y ahora quieren aprovechar tus talentos para enfrentar un nuevo desafío.\n",
        "\n",
        "Nos han pedido desarrollar un **Predictor de Ratings de Pedidos** utilizando los datos preprocesados de ratings de\n",
        "pedidos de nuestra plataforma de e-commerce."
      ]
    },
    {
      "cell_type": "markdown",
      "metadata": {
        "id": "gR-Qdqc8f9Yz"
      },
      "source": [
        "# Pauta de Evaluación\n",
        "\n",
        "Este MP2 está enfocado en responder preguntas de negocio relevantes para **AMAZOFF**.\n",
        "\n",
        "### Preguntas de Negocio\n",
        "\n",
        "1. (15 puntos) El equipo necesita extraer la máxima información de los datos. ¿Cómo modificarías la base de datos para ser usada con modelos de ML?\n",
        "2. (15 puntos) ¡Wow! Gran *feature engineering*. Toca armar tu set para entrenar el modelo. ¿Podrías generar gráficas para el equipo de Customer Experience que expliquen mejor los datos nuevos? ¡No olvides explicarlas!\n",
        "3. (10 puntos) Dicen que se pueden encontrar patrones en tus datos de entrenamiento. ¿Qué patrones encuentras en los pedidos? ¿Cómo pueden ser de utilidad para mejorar las ventas de AMAZOFF?\n",
        "4. (25 puntos) ¡Viva el ML! Toca predecir la satisfacción del cliente. ¿Es posible predecir bien el `rating_class`?\n",
        "5. (20 puntos) El equipo de Customer Experience dice que un solo modelo no es suficiente. ¿Podrías implementar otro?\n",
        "6. (15 puntos) ¡Dos modelos! Eso es genial. ¿Qué modelo funcionó peor? ¿Si utilizas PCA podría mejor?\n",
        "\n",
        "### Tener en consideración:\n",
        "\n",
        "En caso de que el código esté bien, pero no se responda (usando celdas de texto) la pregunta de negocio (sección **Explicación**), **se asignará máximo la mitad de puntos** de esa pregunta.\n",
        "\n",
        "El miniproyecto está diseñado para completar código. Suba el notebook solo con el código para responder la pregunta de negocio.\n",
        "\n",
        "> # ¡NO OLVIDES GUARDAR Y SUBIR EL NOTEBOOK A LA PLATAFORMA CUANDO TERMINES! FORMATO .ipynb"
      ]
    },
    {
      "cell_type": "markdown",
      "metadata": {
        "id": "M0-HUQVGf9Yz"
      },
      "source": [
        "# Preámbulo\n",
        "\n",
        "**¡Cuidado!** En esta sección solo puedes modificar la sección de PÁRAMETROS."
      ]
    },
    {
      "cell_type": "code",
      "execution_count": null,
      "metadata": {
        "id": "vCtLq61Lf9Yz"
      },
      "outputs": [],
      "source": [
        "# ¡No modificar esta celda! No está permitido usar librerías adicionales.\n",
        "\n",
        "# Association Rules\n",
        "from mlxtend.frequent_patterns import apriori, association_rules\n",
        "\n",
        "# Machine Learning\n",
        "from sklearn.metrics import classification_report, confusion_matrix, accuracy_score\n",
        "from sklearn.preprocessing import LabelEncoder, OneHotEncoder, OrdinalEncoder\n",
        "from sklearn.preprocessing import StandardScaler, MinMaxScaler\n",
        "from sklearn.model_selection import train_test_split\n",
        "from sklearn.ensemble import RandomForestClassifier\n",
        "from sklearn.neighbors import KNeighborsClassifier\n",
        "from sklearn.decomposition import PCA\n",
        "\n",
        "# General Data Science\n",
        "from matplotlib import pyplot as plt\n",
        "import seaborn as sns\n",
        "import pandas as pd\n",
        "import numpy as np"
      ]
    },
    {
      "cell_type": "code",
      "execution_count": null,
      "metadata": {
        "id": "6B9pOspef9Y0"
      },
      "outputs": [],
      "source": [
        "# Esta configuración permite que los dataframes se muestren completos.\n",
        "pd.set_option('display.max_columns', None)"
      ]
    },
    {
      "cell_type": "code",
      "execution_count": null,
      "metadata": {
        "id": "BoXhS6eVf9Y0"
      },
      "outputs": [],
      "source": [
        "# PARÁMETROS (puedes modificar esta sección)\n",
        "\n",
        "DATA_PATH = 'ecommerce.csv' # Si tienes el archivo en otro lugar, cámbialo.\n",
        "RANDOM_STATE = 0 # ¡Cámbialo a tu número favorito!"
      ]
    },
    {
      "cell_type": "code",
      "execution_count": null,
      "metadata": {
        "id": "nCSyCZ4cf9Y0"
      },
      "outputs": [],
      "source": [
        "# ¡No modificar! Esta celda se encarga de cargar los datos.\n",
        "df = pd.read_csv(DATA_PATH)\n",
        "df.purchased = pd.to_datetime(df.purchased)\n",
        "df.delivered = pd.to_datetime(df.delivered)\n",
        "df.estimated_delivery = pd.to_datetime(df.estimated_delivery)\n",
        "print(f'{df.shape[0]} rows x {df.shape[1]} columns')\n",
        "df.head(5)"
      ]
    },
    {
      "cell_type": "code",
      "execution_count": null,
      "metadata": {
        "id": "hO8daI3Yf9Y0"
      },
      "outputs": [],
      "source": [
        "# ¿Cuántos valores únicos hay en cada columna?\n",
        "for col in df.columns:\n",
        "    print(f'{col}: {df[col].nunique()} unique values')"
      ]
    },
    {
      "cell_type": "markdown",
      "metadata": {
        "id": "kg3m6vn1f9Y1"
      },
      "source": [
        "# 1. El equipo necesita extraer la máxima información de los datos. ¿Cómo modificarías la base de datos para ser usada con modelos de ML?\n",
        "\n",
        "⁉️ **Consideración:** La última celda de esta sección es la de cálculo de `rating_class`, mantener el orden. Agregar las celdas para modificar\n",
        "los datos, antes de esta. No olvides modificar el código para calcular la clase de rating.\n",
        "\n",
        "ℹ️ **HINT:** Utiliza una celda para cada columna. ¿Qué columnas no sirven? ¿Qué columnas necesito que sean números? ¿Nuevas columnas?\n",
        "\n",
        "📖 **Referencia Externa:** [Feature Engineering](https://www.freecodecamp.org/news/feature-engineering-techniques-for-structured-data/).\n",
        "\n",
        "---\n",
        "\n",
        "✅ **Explicación:**\n",
        "\n",
        "[ AGREGA TU RESPUESTA ACÁ ]"
      ]
    },
    {
      "cell_type": "code",
      "execution_count": null,
      "metadata": {
        "id": "sIN0r3bZf9Y1"
      },
      "outputs": [],
      "source": [
        "# [ AGREGA TU CÓDIGO AQUÍ ] ¿Necesitas agregar más celdas? Adelante."
      ]
    },
    {
      "cell_type": "code",
      "execution_count": null,
      "metadata": {
        "id": "4R9HdT6Df9Y1"
      },
      "outputs": [],
      "source": [
        "# [ AGREGA TU CÓDIGO AQUÍ ] ¿Necesitas agregar más celdas? Adelante."
      ]
    },
    {
      "cell_type": "code",
      "execution_count": null,
      "metadata": {
        "id": "-Dq970B9f9Y1"
      },
      "outputs": [],
      "source": [
        "# [ AGREGA TU CÓDIGO AQUÍ ] ¿Necesitas agregar más celdas? Adelante."
      ]
    },
    {
      "cell_type": "markdown",
      "metadata": {
        "id": "9OWvnJvbf9Y1"
      },
      "source": [
        "Debido a que estaremos realizando clasificación, pasaremos `rating`de numérico a categórico. Deberás modificar `RATING_BINS`\n",
        "y `RATING_LABELS` para seleccionar cómo realizar el *binning* de esta clase.\n",
        "\n",
        "**Ejemplo:**\n",
        "```python\n",
        "    RATING_BINS = [0, 2, 3.5, 5]\n",
        "    RATING_LABELS = ['low', 'medium', 'high']\n",
        "```"
      ]
    },
    {
      "cell_type": "code",
      "execution_count": null,
      "metadata": {
        "id": "3AdLRBcqf9Y2"
      },
      "outputs": [],
      "source": [
        "# Modifica RATING_BINS y RATING_LABELS según consideres.\n",
        "RATING_BINS = []\n",
        "RATING_LABELS = []\n",
        "\n",
        "################################################################################\n",
        "\n",
        "# ¡No modificar! Este código se encarga de crear la columna rating_class.\n",
        "df['rating_class'] = pd.cut(df['rating'], bins=RATING_BINS, labels=RATING_LABELS, include_lowest=True)\n",
        "df.value_counts(['rating', 'rating_class'], normalize=True, sort=False, dropna=False)"
      ]
    },
    {
      "cell_type": "markdown",
      "metadata": {
        "id": "C2sZI4Cif9Y2"
      },
      "source": [
        "**¡Ten cuidado!** Debes intentar que tus `rating_class` no sean demasiado imbalancedas. Por ejemplo, que el 90% de los datos\n",
        "sean *low*, 5% *medium* y 5% *high*. Es preferible algo como: 40% *low*, 30% *medium* y 30% *high*."
      ]
    },
    {
      "cell_type": "code",
      "execution_count": null,
      "metadata": {
        "id": "elPcsD4bf9Y2"
      },
      "outputs": [],
      "source": [
        "# ¡No modificar!\n",
        "df.value_counts('rating_class', normalize=True, sort=False, dropna=False)"
      ]
    },
    {
      "cell_type": "markdown",
      "metadata": {
        "id": "JeHpVOk4f9Y2"
      },
      "source": [
        "# 2. ¡Wow! Gran *feature engineering*. Toca armar tu set para entrenar el modelo. ¿Podrías generar gráficas para el equipo de Customer Experience que expliquen mejor los datos nuevos? ¡No olvides explicarlas!\n",
        "\n",
        "⁉️ **Consideración:** Modifica la lista de columnas a eliminar para el *train*. Debes de hacer por lo menos dos gráficos.\n",
        "\n",
        "ℹ️ **HINT 1:** ¿Por qué tus gráficas aportan al equipo de Customer Experience? ¡Explica tus nuevas columnas! ¿No tienes? 😓\n",
        "\n",
        "ℹ️ **HINT 2:** Un buen gráfico tiene título, *labels*, leyenda... ¡y mucho más!\n",
        "\n",
        "📖 **Referencia Externa:** [Tutorial de Seaborn](https://www.datacamp.com/tutorial/seaborn-python-tutorial).\n",
        "\n",
        "---\n",
        "\n",
        "✅ **Explicación:**\n",
        "\n",
        "- **Gráfico 1:** [ AGREGA TU EXPLICACIÓN ACÁ ]\n",
        "\n",
        "- **Gráfico 2:** [ AGREGA TU EXPLICACIÓN ACÁ ]"
      ]
    },
    {
      "cell_type": "code",
      "execution_count": null,
      "metadata": {
        "id": "rcTOM6LCf9Y2"
      },
      "outputs": [],
      "source": [
        "# Gráfico 1: [ TÍTULO DEL GRÁFICO ]\n",
        "\n",
        "########################################################################################################################\n",
        "\n",
        "# [ AGREGA TU CÓDIGO AQUÍ ]"
      ]
    },
    {
      "cell_type": "code",
      "execution_count": null,
      "metadata": {
        "id": "gtCojqHJf9Y2"
      },
      "outputs": [],
      "source": [
        "# Gráfico 2: [ TÍTULO DEL GRÁFICO ]\n",
        "\n",
        "########################################################################################################################\n",
        "\n",
        "# [ AGREGA TU CÓDIGO AQUÍ ]"
      ]
    },
    {
      "cell_type": "code",
      "execution_count": null,
      "metadata": {
        "id": "EyqBj8a7f9Y3"
      },
      "outputs": [],
      "source": [
        "# Modifica la lista de columnas a eliminar según consideres.\n",
        "\n",
        "x = df.drop(\n",
        "    columns=[\n",
        "        # Agrega las columnas que consideres\n",
        "        # [ AGREGA TU CÓDIGO AQUÍ ]\n",
        "        'rating', 'rating_class'\n",
        "    ]\n",
        ")\n",
        "\n",
        "########################################################################################################################\n",
        "\n",
        "# ¡No modificar! Esta celda se encarga de dividir los datos en conjuntos de entrenamiento, validación y prueba.\n",
        "\n",
        "y = df['rating_class']\n",
        "\n",
        "x_train_val, x_test, y_train_val, y_test = train_test_split(x, y, test_size=0.2, shuffle=True, random_state=RANDOM_STATE)\n",
        "x_train, x_val, y_train, y_val = train_test_split(x_train_val, y_train_val, test_size=0.2, shuffle=True, random_state=RANDOM_STATE)\n",
        "\n",
        "print(f'Train: {x_train.shape[0]} rows')\n",
        "print(f'Validation: {x_val.shape[0]} rows')\n",
        "print(f'Test: {x_test.shape[0]} rows')\n",
        "\n",
        "display(x_train.head(5))"
      ]
    },
    {
      "cell_type": "markdown",
      "metadata": {
        "id": "7sW0HLtgf9Y3"
      },
      "source": [
        "# 3. Dicen que se pueden encontrar patrones en tus datos de entrenamiento. ¿Qué patrones encuentras en los pedidos? ¿Cómo pueden ser de utilidad para mejorar las ventas de AMAZOFF?\n",
        "\n",
        "⁉️ **Consideración:** Utiliza reglas de asociación para encontrar reglas útiles para nuevas estrategias de venta. Explica los parámetros y métricas de tu modelo.\n",
        "\n",
        "ℹ️ **HINT 1:** ¿Qué librería se importó en el inicio? Cuidado, ¡solo datos binarios!\n",
        "\n",
        "ℹ️ **HINT 2:** De las principales reglas encontradas... ¿cómo implementarías una estrategia de venta/marketing utilizando esta información?\n",
        "\n",
        "📖 **Referencia Externa:** [Documentación de mlxtend](https://rasbt.github.io/mlxtend/user_guide/frequent_patterns/apriori/).\n",
        "\n",
        "---\n",
        "\n",
        "✅ **Explicación:**\n",
        "\n",
        "[ AGREGA TU EXPLICACIÓN ACÁ ]"
      ]
    },
    {
      "cell_type": "code",
      "execution_count": null,
      "metadata": {
        "id": "GdWOhMkYf9Y3"
      },
      "outputs": [],
      "source": [
        "binary_x_train = x_train.drop(\n",
        "    columns=[\n",
        "        # Agrega las columnas que consideres\n",
        "        # [ AGREGA TU CÓDIGO AQUÍ ]\n",
        "    ]\n",
        ").astype(bool)\n",
        "\n",
        "frequent_itemsets = # [ AGREGA TU CÓDIGO AQUÍ ]\n",
        "frequent_itemsets"
      ]
    },
    {
      "cell_type": "code",
      "execution_count": null,
      "metadata": {
        "id": "yU2IoS6sf9Y3"
      },
      "outputs": [],
      "source": [
        "rules = # [ AGREGA TU CÓDIGO AQUÍ ]\n",
        "rules"
      ]
    },
    {
      "cell_type": "markdown",
      "metadata": {
        "id": "Z9oU8xP3f9Y3"
      },
      "source": [
        "# 4. ¡Viva el ML! Toca predecir la satisfacción del cliente. ¿Es posible predecir bien el `rating_class`?\n",
        "\n",
        "⁉️ **Consideraciones:**\n",
        "\n",
        "- Elige tres sets de hiperparámetros **diferentes** para los tres modelos de clasificación de *Random Forest*.\n",
        "- Debes modificar al menos 4 hiperparámetros. No cuentes `random_state`ni `n_jobs`.\n",
        "- Tus sets de hiperparámetros deben pasar la prueba de *overfitting* y *underfitting*.\n",
        "- Utiliza los resultados de la validación para elegir tus hiperparámetros, no los del testeo.\n",
        "- No olvides interpretar tus resultados e intenta relacionarlos a los intereses de **AMAZOFF** si es posible.\n",
        "\n",
        "ℹ️ **HINT:** El ML es un proceso iterativo, a veces si es que no funcionan bien tus resultados debes de volver a empezar.\n",
        "\n",
        "📖 **Referencia Externa:** [RandomForestClassifier](https://scikit-learn.org/stable/modules/generated/sklearn.ensemble.RandomForestClassifier.html).\n",
        "\n",
        "---\n",
        "\n",
        "✅ **Explicación:**\n",
        "\n",
        "- **Justifica tus hiperpámetros:** [ AGREGA TU EXPLICACIÓN ACÁ ]\n",
        "- **¿Hay *overfitting* o *underfitting*:** [ AGREGA TU EXPLICACIÓN ACÁ ]\n",
        "- **Resultados de Validación:** [ AGREGA TU EXPLICACIÓN ACÁ ]\n",
        "- **Resultados de Testeo:** [ AGREGA TU EXPLICACIÓN ACÁ ]\n",
        "- **¿Es posible predecir bien el `rating_class`:** [ AGREGA TU EXPLICACIÓN ACÁ ]"
      ]
    },
    {
      "cell_type": "code",
      "execution_count": null,
      "metadata": {
        "id": "VFoPBDGwf9Y3"
      },
      "outputs": [],
      "source": [
        "%%time\n",
        "\n",
        "# Debes de modificar al menos 4 parámetros, sin contar random_state y n_jobs.\n",
        "\n",
        "rf1 = RandomForestClassifier(\n",
        "    # [ AGREGA TU CÓDIGO AQUÍ ]\n",
        "    random_state=RANDOM_STATE,\n",
        "    n_jobs=-1\n",
        ")\n",
        "\n",
        "rf1.fit(x_train, y_train)"
      ]
    },
    {
      "cell_type": "code",
      "execution_count": null,
      "metadata": {
        "id": "74ml68N4f9Y3"
      },
      "outputs": [],
      "source": [
        "%%time\n",
        "\n",
        "# Debes de modificar al menos 4 parámetros, sin contar random_state y n_jobs.\n",
        "\n",
        "rf2 = RandomForestClassifier(\n",
        "    # [ AGREGA TU CÓDIGO AQUÍ ]\n",
        "    random_state=RANDOM_STATE,\n",
        "    n_jobs=-1\n",
        ")\n",
        "\n",
        "rf2.fit(x_train, y_train)"
      ]
    },
    {
      "cell_type": "code",
      "execution_count": null,
      "metadata": {
        "id": "n1iQ-wqwf9Y3"
      },
      "outputs": [],
      "source": [
        "%%time\n",
        "\n",
        "# Debes de modificar al menos 4 parámetros, sin contar random_state y n_jobs.\n",
        "\n",
        "rf3 = RandomForestClassifier(\n",
        "    # [ AGREGA TU CÓDIGO AQUÍ ]\n",
        "    random_state=RANDOM_STATE,\n",
        "    n_jobs=-1\n",
        ")\n",
        "\n",
        "rf3.fit(x_train, y_train)"
      ]
    },
    {
      "cell_type": "code",
      "execution_count": null,
      "metadata": {
        "id": "Apo9xUGLf9Y4"
      },
      "outputs": [],
      "source": [
        "# ¡No modificar! Esta celda se encarga de evaluar los modelos y mostrar los resultados.\n",
        "\n",
        "y_val_pred1 = rf1.predict(x_val)\n",
        "y_val_pred2 = rf2.predict(x_val)\n",
        "y_val_pred3 = rf3.predict(x_val)\n",
        "\n",
        "print('[Random Forest] Check Overfitting with Accuracy')\n",
        "print(f'RF1: train={accuracy_score(y_train, rf1.predict(x_train)):.4f} val={accuracy_score(y_val, y_val_pred1):.4f}')\n",
        "print(f'RF2: train={accuracy_score(y_train, rf2.predict(x_train)):.4f} val={accuracy_score(y_val, y_val_pred2):.4f}')\n",
        "print(f'RF3: train={accuracy_score(y_train, rf3.predict(x_train)):.4f} val={accuracy_score(y_val, y_val_pred3):.4f}')"
      ]
    },
    {
      "cell_type": "code",
      "execution_count": null,
      "metadata": {
        "id": "spW6qVm2f9Y4"
      },
      "outputs": [],
      "source": [
        "# ¡No modificar! Esta celda se encarga de mostrar los resultados en el set de validación.\n",
        "\n",
        "print('[Random Forest] Validation Classification Report')\n",
        "print('#'*80)\n",
        "print('RF1')\n",
        "print(classification_report(y_val, y_val_pred1))\n",
        "print('#'*80)\n",
        "print('RF2')\n",
        "print(classification_report(y_val, y_val_pred2))\n",
        "print('#'*80)\n",
        "print('RF3')\n",
        "print(classification_report(y_val, y_val_pred3))"
      ]
    },
    {
      "cell_type": "code",
      "execution_count": null,
      "metadata": {
        "id": "NOJPe9Kgf9Y4"
      },
      "outputs": [],
      "source": [
        "# ¡Completa el código! Esta celda se encarga de evaluar los modelos en el set de testeo y mostrar los resultados.\n",
        "\n",
        "y_pred_rf1 = # [ AGREGA TU CÓDIGO AQUÍ ]\n",
        "y_pred_rf2 = # [ AGREGA TU CÓDIGO AQUÍ ]\n",
        "y_pred_rf3 = # [ AGREGA TU CÓDIGO AQUÍ ]\n",
        "\n",
        "print('[Random Forest] Test Classification Report')\n",
        "print('#'*80)\n",
        "print('RF1')\n",
        "# [ AGREGA TU CÓDIGO AQUÍ ])\n",
        "print('#'*80)\n",
        "print('RF2')\n",
        "# [ AGREGA TU CÓDIGO AQUÍ ])\n",
        "print('#'*80)\n",
        "print('RF3')\n",
        "# [ AGREGA TU CÓDIGO AQUÍ ])"
      ]
    },
    {
      "cell_type": "markdown",
      "metadata": {
        "id": "0t3kVJ6Bf9Y4"
      },
      "source": [
        "# 5. El equipo de Customer Experience dice que un solo modelo no es suficiente. ¿Podrías implementar otro?\n",
        "\n",
        "⁉️ **Consideración:** Utiliza otro modelo visto en clase, como *KNN* y repite todos los pasos de la pregunta 4. No utilices *Random Forest*.\n",
        "\n",
        "ℹ️ **HINT 1:** No olvides elegir 3 set de hiperparámetros y analizar los resultados de validación y testeo.\n",
        "\n",
        "ℹ️ **HINT 2:** Si utilizas un modelo no visto en clases, debes de explicar su funcionamiento para utilizarlo.\n",
        "\n",
        "📖 **Referencia Externa:** [KNN](https://scikit-learn.org/stable/modules/generated/sklearn.neighbors.KNeighborsClassifier.html).\n",
        "\n",
        "---\n",
        "\n",
        "✅ **Explicación:**\n",
        "\n",
        "- **Justifica tus hiperpámetros:** [ AGREGA TU EXPLICACIÓN ACÁ ]\n",
        "- **¿Hay *overfitting* o *underfitting*:** [ AGREGA TU EXPLICACIÓN ACÁ ]\n",
        "- **Resultados de Validación:** [ AGREGA TU EXPLICACIÓN ACÁ ]\n",
        "- **Resultados de Testeo:** [ AGREGA TU EXPLICACIÓN ACÁ ]\n",
        "- **¿Es posible predecir bien el `rating_class`:** [ AGREGA TU EXPLICACIÓN ACÁ ]"
      ]
    },
    {
      "cell_type": "code",
      "execution_count": null,
      "metadata": {
        "id": "r07SvFKOf9Y4"
      },
      "outputs": [],
      "source": [
        "# Si usas un modelo no visto en clase: Descomenta e importa tu nuevo modelo de clasificación aquí.\n",
        "# ¡No olvides agregar a tu explicación cómo funciona el modelo no visto en clase!\n",
        "\n",
        "# from sklearn."
      ]
    },
    {
      "cell_type": "code",
      "execution_count": null,
      "metadata": {
        "id": "hbn9pEURf9Y4"
      },
      "outputs": [],
      "source": [
        "# Instancia tu modelo 1 aquí.\n",
        "\n",
        "# [ AGREGA TU CÓDIGO AQUÍ ]"
      ]
    },
    {
      "cell_type": "code",
      "execution_count": null,
      "metadata": {
        "id": "a3vmsGVzf9Y4"
      },
      "outputs": [],
      "source": [
        "# Instancia tu modelo 2 aquí.\n",
        "\n",
        "# [ AGREGA TU CÓDIGO AQUÍ ]"
      ]
    },
    {
      "cell_type": "code",
      "execution_count": null,
      "metadata": {
        "id": "rWLRtwYKf9Y4"
      },
      "outputs": [],
      "source": [
        "# Instancia tu modelo 3 aquí.\n",
        "\n",
        "# [ AGREGA TU CÓDIGO AQUÍ ]"
      ]
    },
    {
      "cell_type": "code",
      "execution_count": null,
      "metadata": {
        "id": "B6xHVc9Vf9Y5"
      },
      "outputs": [],
      "source": [
        "# Revisa si hay overfitting (resultado de entrenamiento muy superior al de validación).\n",
        "# Utiliza: `accuracy_score`.\n",
        "\n",
        "# [ AGREGA TU CÓDIGO AQUÍ ]"
      ]
    },
    {
      "cell_type": "code",
      "execution_count": null,
      "metadata": {
        "id": "L9w9fQSLf9Y5"
      },
      "outputs": [],
      "source": [
        "# Imprime los resultados de tus modelos en el set de validación (classification_report).\n",
        "\n",
        "# [ AGREGA TU CÓDIGO AQUÍ ]"
      ]
    },
    {
      "cell_type": "code",
      "execution_count": null,
      "metadata": {
        "id": "SIg-swsLf9Y5"
      },
      "outputs": [],
      "source": [
        "# Imprime los resultados de tus modelos en el set de testeo (classification_report).\n",
        "\n",
        "# [ AGREGA TU CÓDIGO AQUÍ ]"
      ]
    },
    {
      "cell_type": "markdown",
      "metadata": {
        "id": "GzI2EZ8Bf9Y5"
      },
      "source": [
        "# 6. ¡Dos modelos! Eso es genial. ¿Qué modelo funcionó peor? ¿Si utilizas PCA podría mejor?\n",
        "\n",
        "⁉️ **Consideración:** Elige la combinación de modelo e hiperparámetros que peor se desempeño entre las preguntas 4 y 5. Aplica PCA con un número de componentes adecuado y corre los resultados otra vez.\n",
        "\n",
        "ℹ️ **HINT:** ¿Cómo se elige el número de componentes? ¿Y ese gráfico para qué sirve?\n",
        "\n",
        "📖 **Referencia Externa:** [PCA](https://www.baeldung.com/cs/pca).\n",
        "\n",
        "---\n",
        "\n",
        "✅ **Explicación:**\n",
        "\n",
        "- **¿Por qué elegiste ese número de componentes?** [ AGREGA TU EXPLICACIÓN ACÁ ]\n",
        "- **Resultados de Validación:** [ AGREGA TU EXPLICACIÓN ACÁ ]\n",
        "- **Resultados de Testeo:** [ AGREGA TU EXPLICACIÓN ACÁ ]\n",
        "- **¿Mejoraron los resultados al usar PCA? ¿Por qué?** [ AGREGA TU EXPLICACIÓN ACÁ ]"
      ]
    },
    {
      "cell_type": "code",
      "execution_count": null,
      "metadata": {
        "id": "AIPtvVwjf9Y8"
      },
      "outputs": [],
      "source": [
        "# ¡No modificar! Gráfico de Varianza Explicada por Número de Componentes\n",
        "\n",
        "explained_variance = []\n",
        "for i in range(1, 8):\n",
        "    pca = PCA(n_components=i)\n",
        "    pca.fit(x_train)\n",
        "    explained_variance.append(pca.explained_variance_ratio_.sum())\n",
        "\n",
        "plt.plot(range(1, 8), explained_variance, marker='o')\n",
        "plt.xlabel('Number of Components')\n",
        "plt.ylabel('Explained Variance')\n",
        "plt.title('PCA Explained Variance')\n",
        "plt.show()"
      ]
    },
    {
      "cell_type": "code",
      "execution_count": null,
      "metadata": {
        "id": "vK27eIaNf9Y8"
      },
      "outputs": [],
      "source": [
        "# Elige el número de componentes que consideres adecuado.\n",
        "\n",
        "pca = PCA(# [ AGREGA TU CÓDIGO AQUÍ ])\n",
        "\n",
        "########################################################################################################################\n",
        "\n",
        "# ¡No modificar! Esta celda se encarga de transformar los datos con PCA.\n",
        "\n",
        "pca.fit(x_train)\n",
        "\n",
        "x_train_pca = pca.transform(x_train)\n",
        "x_val_pca = pca.transform(x_val)\n",
        "x_test_pca = pca.transform(x_test)"
      ]
    },
    {
      "cell_type": "code",
      "execution_count": null,
      "metadata": {
        "id": "DWV4hzdDf9Y8"
      },
      "outputs": [],
      "source": [
        "# Elige el modelo que deseas utilizar. Selecciona los hiperparámetros que consideres. ¿Elegiste la peor combinación anterior?\n",
        "#     Ejemplo 1: model = RandomForestClassifier(n_estimators=100, random_state=RANDOM_STATE).\n",
        "#     Ejemplo 2: model = KNeighborsClassifier(n_neighbors=10).\n",
        "\n",
        "model = # [ AGREGA TU CÓDIGO AQUÍ ]\n",
        "\n",
        "########################################################################################################################\n",
        "\n",
        "# ¡No modificar! Este código se encarga de entrenar el modelo y mostrar los resultados en el set de validación.\n",
        "\n",
        "model.fit(x_train_pca, y_train)\n",
        "\n",
        "y_val_pca_pred = model.predict(x_val_pca)\n",
        "\n",
        "print(f'[{model.__class__.__name__}] Validation Classification Report')\n",
        "print(classification_report(y_val, y_val_pca_pred))"
      ]
    },
    {
      "cell_type": "code",
      "execution_count": null,
      "metadata": {
        "id": "_XLs0WONf9Y8"
      },
      "outputs": [],
      "source": [
        "# ¡No modificar! Esta celda se encarga de mostrar los resultados en el set de test.\n",
        "\n",
        "y_test_pca_pred = model.predict(x_test_pca)\n",
        "\n",
        "print(f'[{model.__class__.__name__}] Test Classification Report')\n",
        "print(classification_report(y_test, y_test_pca_pred))"
      ]
    },
    {
      "cell_type": "markdown",
      "metadata": {
        "id": "ocZURLoof9Y8"
      },
      "source": [
        "> # ¡NO OLVIDES GUARDAR Y SUBIR EL NOTEBOOK A LA PLATAFORMA CUANDO TERMINES! FORMATO .ipynb"
      ]
    }
  ],
  "metadata": {
    "kernelspec": {
      "display_name": "myenv",
      "language": "python",
      "name": "myenv"
    },
    "language_info": {
      "codemirror_mode": {
        "name": "ipython",
        "version": 3
      },
      "file_extension": ".py",
      "mimetype": "text/x-python",
      "name": "python",
      "nbconvert_exporter": "python",
      "pygments_lexer": "ipython3",
      "version": "3.12.3"
    },
    "colab": {
      "provenance": [],
      "include_colab_link": true
    }
  },
  "nbformat": 4,
  "nbformat_minor": 0
}